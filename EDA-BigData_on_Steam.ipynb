{
 "cells": [
  {
   "cell_type": "code",
   "execution_count": 0,
   "metadata": {
    "application/vnd.databricks.v1+cell": {
     "cellMetadata": {
      "byteLimit": 2048000,
      "rowLimit": 10000
     },
     "inputWidgets": {},
     "nuid": "18b5e8da-3031-47ef-8832-fa46ed7fa49c",
     "showTitle": false,
     "tableResultSettingsMap": {},
     "title": ""
    }
   },
   "outputs": [],
   "source": [
    "# librairies\n",
    "from pyspark.sql import SparkSession\n",
    "from pyspark.sql import functions as F\n",
    "from pyspark.sql.types import *\n",
    "from pyspark.sql.window import Window\n"
   ]
  },
  {
   "cell_type": "code",
   "execution_count": 0,
   "metadata": {
    "application/vnd.databricks.v1+cell": {
     "cellMetadata": {
      "byteLimit": 2048000,
      "rowLimit": 10000
     },
     "inputWidgets": {},
     "nuid": "bd467d26-085c-4d3c-a93e-e6b246bb5faa",
     "showTitle": false,
     "tableResultSettingsMap": {},
     "title": ""
    }
   },
   "outputs": [],
   "source": [
    "# import des données\n",
    "df = spark.read.json(\"s3://full-stack-bigdata-datasets/Big_Data/Project_Steam/steam_game_output.json\")"
   ]
  },
  {
   "cell_type": "code",
   "execution_count": 0,
   "metadata": {
    "application/vnd.databricks.v1+cell": {
     "cellMetadata": {
      "byteLimit": 2048000,
      "rowLimit": 10000
     },
     "inputWidgets": {},
     "nuid": "c8acf5a5-87d3-46a9-b852-0d8b484590a5",
     "showTitle": false,
     "tableResultSettingsMap": {},
     "title": ""
    }
   },
   "outputs": [
    {
     "output_type": "stream",
     "name": "stdout",
     "output_type": "stream",
     "text": [
      "root\n |-- data: struct (nullable = true)\n |    |-- appid: long (nullable = true)\n |    |-- categories: array (nullable = true)\n |    |    |-- element: string (containsNull = true)\n |    |-- ccu: long (nullable = true)\n |    |-- developer: string (nullable = true)\n |    |-- discount: string (nullable = true)\n |    |-- genre: string (nullable = true)\n |    |-- header_image: string (nullable = true)\n |    |-- initialprice: string (nullable = true)\n |    |-- languages: string (nullable = true)\n |    |-- name: string (nullable = true)\n |    |-- negative: long (nullable = true)\n |    |-- owners: string (nullable = true)\n |    |-- platforms: struct (nullable = true)\n |    |    |-- linux: boolean (nullable = true)\n |    |    |-- mac: boolean (nullable = true)\n |    |    |-- windows: boolean (nullable = true)\n |    |-- positive: long (nullable = true)\n |    |-- price: string (nullable = true)\n |    |-- publisher: string (nullable = true)\n |    |-- release_date: string (nullable = true)\n |    |-- required_age: string (nullable = true)\n |    |-- short_description: string (nullable = true)\n |    |-- tags: struct (nullable = true)\n |    |    |-- 1980s: long (nullable = true)\n |    |    |-- 1990's: long (nullable = true)\n |    |    |-- 2.5D: long (nullable = true)\n |    |    |-- 2D: long (nullable = true)\n |    |    |-- 2D Fighter: long (nullable = true)\n |    |    |-- 2D Platformer: long (nullable = true)\n |    |    |-- 360 Video: long (nullable = true)\n |    |    |-- 3D: long (nullable = true)\n |    |    |-- 3D Fighter: long (nullable = true)\n |    |    |-- 3D Platformer: long (nullable = true)\n |    |    |-- 3D Vision: long (nullable = true)\n |    |    |-- 4 Player Local: long (nullable = true)\n |    |    |-- 4X: long (nullable = true)\n |    |    |-- 6DOF: long (nullable = true)\n |    |    |-- 8-bit Music: long (nullable = true)\n |    |    |-- ATV: long (nullable = true)\n |    |    |-- Abstract: long (nullable = true)\n |    |    |-- Action: long (nullable = true)\n |    |    |-- Action RPG: long (nullable = true)\n |    |    |-- Action RTS: long (nullable = true)\n |    |    |-- Action Roguelike: long (nullable = true)\n |    |    |-- Action-Adventure: long (nullable = true)\n |    |    |-- Addictive: long (nullable = true)\n |    |    |-- Adventure: long (nullable = true)\n |    |    |-- Agriculture: long (nullable = true)\n |    |    |-- Aliens: long (nullable = true)\n |    |    |-- Alternate History: long (nullable = true)\n |    |    |-- Ambient: long (nullable = true)\n |    |    |-- America: long (nullable = true)\n |    |    |-- Animation & Modeling: long (nullable = true)\n |    |    |-- Anime: long (nullable = true)\n |    |    |-- Arcade: long (nullable = true)\n |    |    |-- Archery: long (nullable = true)\n |    |    |-- Arena Shooter: long (nullable = true)\n |    |    |-- Artificial Intelligence: long (nullable = true)\n |    |    |-- Assassin: long (nullable = true)\n |    |    |-- Asymmetric VR: long (nullable = true)\n |    |    |-- Asynchronous Multiplayer: long (nullable = true)\n |    |    |-- Atmospheric: long (nullable = true)\n |    |    |-- Audio Production: long (nullable = true)\n |    |    |-- Auto Battler: long (nullable = true)\n |    |    |-- Automation: long (nullable = true)\n |    |    |-- Automobile Sim: long (nullable = true)\n |    |    |-- BMX: long (nullable = true)\n |    |    |-- Base-Building: long (nullable = true)\n |    |    |-- Baseball: long (nullable = true)\n |    |    |-- Based On A Novel: long (nullable = true)\n |    |    |-- Basketball: long (nullable = true)\n |    |    |-- Battle Royale: long (nullable = true)\n |    |    |-- Beat 'em up: long (nullable = true)\n |    |    |-- Beautiful: long (nullable = true)\n |    |    |-- Benchmark: long (nullable = true)\n |    |    |-- Bikes: long (nullable = true)\n |    |    |-- Blood: long (nullable = true)\n |    |    |-- Board Game: long (nullable = true)\n |    |    |-- Boss Rush: long (nullable = true)\n |    |    |-- Bowling: long (nullable = true)\n |    |    |-- Boxing: long (nullable = true)\n |    |    |-- Building: long (nullable = true)\n |    |    |-- Bullet Hell: long (nullable = true)\n |    |    |-- Bullet Time: long (nullable = true)\n |    |    |-- CRPG: long (nullable = true)\n |    |    |-- Capitalism: long (nullable = true)\n |    |    |-- Card Battler: long (nullable = true)\n |    |    |-- Card Game: long (nullable = true)\n |    |    |-- Cartoon: long (nullable = true)\n |    |    |-- Cartoony: long (nullable = true)\n |    |    |-- Casual: long (nullable = true)\n |    |    |-- Cats: long (nullable = true)\n |    |    |-- Character Action Game: long (nullable = true)\n |    |    |-- Character Customization: long (nullable = true)\n |    |    |-- Chess: long (nullable = true)\n |    |    |-- Choices Matter: long (nullable = true)\n |    |    |-- Choose Your Own Adventure: long (nullable = true)\n |    |    |-- Cinematic: long (nullable = true)\n |    |    |-- City Builder: long (nullable = true)\n |    |    |-- Class-Based: long (nullable = true)\n |    |    |-- Classic: long (nullable = true)\n |    |    |-- Clicker: long (nullable = true)\n |    |    |-- Co-op: long (nullable = true)\n |    |    |-- Co-op Campaign: long (nullable = true)\n |    |    |-- Coding: long (nullable = true)\n |    |    |-- Cold War: long (nullable = true)\n |    |    |-- Collectathon: long (nullable = true)\n |    |    |-- Colony Sim: long (nullable = true)\n |    |    |-- Colorful: long (nullable = true)\n |    |    |-- Combat: long (nullable = true)\n |    |    |-- Combat Racing: long (nullable = true)\n |    |    |-- Comedy: long (nullable = true)\n |    |    |-- Comic Book: long (nullable = true)\n |    |    |-- Competitive: long (nullable = true)\n |    |    |-- Conspiracy: long (nullable = true)\n |    |    |-- Controller: long (nullable = true)\n |    |    |-- Conversation: long (nullable = true)\n |    |    |-- Cooking: long (nullable = true)\n |    |    |-- Cozy: long (nullable = true)\n |    |    |-- Crafting: long (nullable = true)\n |    |    |-- Creature Collector: long (nullable = true)\n |    |    |-- Cricket: long (nullable = true)\n |    |    |-- Crime: long (nullable = true)\n |    |    |-- Crowdfunded: long (nullable = true)\n |    |    |-- Cult Classic: long (nullable = true)\n |    |    |-- Cute: long (nullable = true)\n |    |    |-- Cyberpunk: long (nullable = true)\n |    |    |-- Cycling: long (nullable = true)\n |    |    |-- Dark: long (nullable = true)\n |    |    |-- Dark Comedy: long (nullable = true)\n |    |    |-- Dark Fantasy: long (nullable = true)\n |    |    |-- Dark Humor: long (nullable = true)\n |    |    |-- Dating Sim: long (nullable = true)\n |    |    |-- Deckbuilding: long (nullable = true)\n |    |    |-- Demons: long (nullable = true)\n |    |    |-- Design & Illustration: long (nullable = true)\n |    |    |-- Destruction: long (nullable = true)\n |    |    |-- Detective: long (nullable = true)\n |    |    |-- Difficult: long (nullable = true)\n |    |    |-- Dinosaurs: long (nullable = true)\n |    |    |-- Diplomacy: long (nullable = true)\n |    |    |-- Documentary: long (nullable = true)\n |    |    |-- Dog: long (nullable = true)\n |    |    |-- Dragons: long (nullable = true)\n |    |    |-- Drama: long (nullable = true)\n |    |    |-- Driving: long (nullable = true)\n |    |    |-- Dungeon Crawler: long (nullable = true)\n |    |    |-- Dungeons & Dragons: long (nullable = true)\n |    |    |-- Dynamic Narration: long (nullable = true)\n |    |    |-- Dystopian : long (nullable = true)\n |    |    |-- Early Access: long (nullable = true)\n |    |    |-- Economy: long (nullable = true)\n |    |    |-- Education: long (nullable = true)\n |    |    |-- Electronic: long (nullable = true)\n |    |    |-- Electronic Music: long (nullable = true)\n |    |    |-- Emotional: long (nullable = true)\n |    |    |-- Epic: long (nullable = true)\n |    |    |-- Episodic: long (nullable = true)\n |    |    |-- Escape Room: long (nullable = true)\n |    |    |-- Experience: long (nullable = true)\n |    |    |-- Experimental: long (nullable = true)\n |    |    |-- Exploration: long (nullable = true)\n |    |    |-- FMV: long (nullable = true)\n |    |    |-- FPS: long (nullable = true)\n |    |    |-- Faith: long (nullable = true)\n |    |    |-- Family Friendly: long (nullable = true)\n |    |    |-- Fantasy: long (nullable = true)\n |    |    |-- Farming: long (nullable = true)\n |    |    |-- Farming Sim: long (nullable = true)\n |    |    |-- Fast-Paced: long (nullable = true)\n |    |    |-- Feature Film: long (nullable = true)\n |    |    |-- Female Protagonist: long (nullable = true)\n |    |    |-- Fighting: long (nullable = true)\n |    |    |-- First-Person: long (nullable = true)\n |    |    |-- Fishing: long (nullable = true)\n |    |    |-- Flight: long (nullable = true)\n |    |    |-- Football: long (nullable = true)\n |    |    |-- Foreign: long (nullable = true)\n |    |    |-- Free to Play: long (nullable = true)\n |    |    |-- Funny: long (nullable = true)\n |    |    |-- Futuristic: long (nullable = true)\n |    |    |-- Gambling: long (nullable = true)\n |    |    |-- Game Development: long (nullable = true)\n |    |    |-- GameMaker: long (nullable = true)\n |    |    |-- Games Workshop: long (nullable = true)\n |    |    |-- Gaming: long (nullable = true)\n |    |    |-- God Game: long (nullable = true)\n |    |    |-- Golf: long (nullable = true)\n |    |    |-- Gore: long (nullable = true)\n |    |    |-- Gothic: long (nullable = true)\n |    |    |-- Grand Strategy: long (nullable = true)\n |    |    |-- Great Soundtrack: long (nullable = true)\n |    |    |-- Grid-Based Movement: long (nullable = true)\n |    |    |-- Gun Customization: long (nullable = true)\n |    |    |-- Hack and Slash: long (nullable = true)\n |    |    |-- Hacking: long (nullable = true)\n |    |    |-- Hand-drawn: long (nullable = true)\n |    |    |-- Hardware: long (nullable = true)\n |    |    |-- Heist: long (nullable = true)\n |    |    |-- Hentai: long (nullable = true)\n |    |    |-- Hero Shooter: long (nullable = true)\n |    |    |-- Hex Grid: long (nullable = true)\n |    |    |-- Hidden Object: long (nullable = true)\n |    |    |-- Historical: long (nullable = true)\n |    |    |-- Hockey: long (nullable = true)\n |    |    |-- Horror: long (nullable = true)\n |    |    |-- Horses: long (nullable = true)\n |    |    |-- Hunting: long (nullable = true)\n |    |    |-- Idler: long (nullable = true)\n |    |    |-- Illuminati: long (nullable = true)\n |    |    |-- Immersive: long (nullable = true)\n |    |    |-- Immersive Sim: long (nullable = true)\n |    |    |-- Indie: long (nullable = true)\n |    |    |-- Instrumental Music: long (nullable = true)\n |    |    |-- Intentionally Awkward Controls: long (nullable = true)\n |    |    |-- Interactive Fiction: long (nullable = true)\n |    |    |-- Inventory Management: long (nullable = true)\n |    |    |-- Investigation: long (nullable = true)\n |    |    |-- Isometric: long (nullable = true)\n |    |    |-- JRPG: long (nullable = true)\n |    |    |-- Jet: long (nullable = true)\n |    |    |-- Job Simulator: long (nullable = true)\n |    |    |-- Jump Scare: long (nullable = true)\n |    |    |-- Kickstarter: long (nullable = true)\n |    |    |-- LEGO: long (nullable = true)\n |    |    |-- LGBTQ+: long (nullable = true)\n |    |    |-- Lemmings: long (nullable = true)\n |    |    |-- Level Editor: long (nullable = true)\n |    |    |-- Life Sim: long (nullable = true)\n |    |    |-- Linear: long (nullable = true)\n |    |    |-- Local Co-Op: long (nullable = true)\n |    |    |-- Local Multiplayer: long (nullable = true)\n |    |    |-- Logic: long (nullable = true)\n |    |    |-- Loot: long (nullable = true)\n |    |    |-- Looter Shooter: long (nullable = true)\n |    |    |-- Lore-Rich: long (nullable = true)\n |    |    |-- Lovecraftian: long (nullable = true)\n |    |    |-- MMORPG: long (nullable = true)\n |    |    |-- MOBA: long (nullable = true)\n |    |    |-- Magic: long (nullable = true)\n |    |    |-- Mahjong: long (nullable = true)\n |    |    |-- Management: long (nullable = true)\n |    |    |-- Mars: long (nullable = true)\n |    |    |-- Martial Arts: long (nullable = true)\n |    |    |-- Massively Multiplayer: long (nullable = true)\n |    |    |-- Masterpiece: long (nullable = true)\n |    |    |-- Match 3: long (nullable = true)\n |    |    |-- Mature: long (nullable = true)\n |    |    |-- Mechs: long (nullable = true)\n |    |    |-- Medical Sim: long (nullable = true)\n |    |    |-- Medieval: long (nullable = true)\n |    |    |-- Memes: long (nullable = true)\n |    |    |-- Metroidvania: long (nullable = true)\n |    |    |-- Military: long (nullable = true)\n |    |    |-- Mini Golf: long (nullable = true)\n |    |    |-- Minigames: long (nullable = true)\n |    |    |-- Minimalist: long (nullable = true)\n |    |    |-- Mining: long (nullable = true)\n |    |    |-- Mod: long (nullable = true)\n |    |    |-- Moddable: long (nullable = true)\n |    |    |-- Modern: long (nullable = true)\n |    |    |-- Motocross: long (nullable = true)\n |    |    |-- Motorbike: long (nullable = true)\n |    |    |-- Mouse only: long (nullable = true)\n |    |    |-- Movie: long (nullable = true)\n |    |    |-- Multiplayer: long (nullable = true)\n |    |    |-- Multiple Endings: long (nullable = true)\n |    |    |-- Music: long (nullable = true)\n |    |    |-- Music-Based Procedural Generation: long (nullable = true)\n |    |    |-- Musou: long (nullable = true)\n |    |    |-- Mystery: long (nullable = true)\n |    |    |-- Mystery Dungeon: long (nullable = true)\n |    |    |-- Mythology: long (nullable = true)\n |    |    |-- NSFW: long (nullable = true)\n |    |    |-- Narration: long (nullable = true)\n |    |    |-- Narrative: long (nullable = true)\n |    |    |-- Nature: long (nullable = true)\n |    |    |-- Naval: long (nullable = true)\n |    |    |-- Naval Combat: long (nullable = true)\n |    |    |-- Ninja: long (nullable = true)\n |    |    |-- Noir: long (nullable = true)\n |    |    |-- Nonlinear: long (nullable = true)\n |    |    |-- Nostalgia: long (nullable = true)\n |    |    |-- Nudity: long (nullable = true)\n |    |    |-- Offroad: long (nullable = true)\n |    |    |-- Old School: long (nullable = true)\n |    |    |-- On-Rails Shooter: long (nullable = true)\n |    |    |-- Online Co-Op: long (nullable = true)\n |    |    |-- Open World: long (nullable = true)\n |    |    |-- Open World Survival Craft: long (nullable = true)\n |    |    |-- Otome: long (nullable = true)\n |    |    |-- Outbreak Sim: long (nullable = true)\n |    |    |-- Parkour: long (nullable = true)\n |    |    |-- Parody : long (nullable = true)\n |    |    |-- Party: long (nullable = true)\n |    |    |-- Party Game: long (nullable = true)\n |    |    |-- Party-Based RPG: long (nullable = true)\n |    |    |-- Perma Death: long (nullable = true)\n |    |    |-- Philosophical: long (nullable = true)\n |    |    |-- Photo Editing: long (nullable = true)\n |    |    |-- Physics: long (nullable = true)\n |    |    |-- Pinball: long (nullable = true)\n |    |    |-- Pirates: long (nullable = true)\n |    |    |-- Pixel Graphics: long (nullable = true)\n |    |    |-- Platformer: long (nullable = true)\n |    |    |-- Point & Click: long (nullable = true)\n |    |    |-- Political: long (nullable = true)\n |    |    |-- Political Sim: long (nullable = true)\n |    |    |-- Politics: long (nullable = true)\n |    |    |-- Pool: long (nullable = true)\n |    |    |-- Post-apocalyptic: long (nullable = true)\n |    |    |-- Precision Platformer: long (nullable = true)\n |    |    |-- Procedural Generation: long (nullable = true)\n |    |    |-- Programming: long (nullable = true)\n |    |    |-- Psychedelic: long (nullable = true)\n |    |    |-- Psychological: long (nullable = true)\n |    |    |-- Psychological Horror: long (nullable = true)\n |    |    |-- Puzzle: long (nullable = true)\n |    |    |-- Puzzle-Platformer: long (nullable = true)\n |    |    |-- PvE: long (nullable = true)\n |    |    |-- PvP: long (nullable = true)\n |    |    |-- Quick-Time Events: long (nullable = true)\n |    |    |-- RPG: long (nullable = true)\n |    |    |-- RPGMaker: long (nullable = true)\n |    |    |-- RTS: long (nullable = true)\n |    |    |-- Racing: long (nullable = true)\n |    |    |-- Real Time Tactics: long (nullable = true)\n |    |    |-- Real-Time: long (nullable = true)\n |    |    |-- Real-Time with Pause: long (nullable = true)\n |    |    |-- Realistic: long (nullable = true)\n |    |    |-- Reboot: long (nullable = true)\n |    |    |-- Relaxing: long (nullable = true)\n |    |    |-- Remake: long (nullable = true)\n |    |    |-- Replay Value: long (nullable = true)\n |    |    |-- Resource Management: long (nullable = true)\n |    |    |-- Retro: long (nullable = true)\n |    |    |-- Rhythm: long (nullable = true)\n |    |    |-- Robots: long (nullable = true)\n |    |    |-- Rock Music: long (nullable = true)\n |    |    |-- Rogue-like: long (nullable = true)\n |    |    |-- Rogue-lite: long (nullable = true)\n |    |    |-- Roguelike Deckbuilder: long (nullable = true)\n |    |    |-- Roguevania: long (nullable = true)\n |    |    |-- Romance: long (nullable = true)\n |    |    |-- Rome: long (nullable = true)\n |    |    |-- Rugby: long (nullable = true)\n |    |    |-- Runner: long (nullable = true)\n |    |    |-- Sailing: long (nullable = true)\n |    |    |-- Sandbox: long (nullable = true)\n |    |    |-- Satire: long (nullable = true)\n |    |    |-- Sci-fi: long (nullable = true)\n |    |    |-- Science: long (nullable = true)\n |    |    |-- Score Attack: long (nullable = true)\n |    |    |-- Sequel: long (nullable = true)\n |    |    |-- Sexual Content: long (nullable = true)\n |    |    |-- Shoot 'Em Up: long (nullable = true)\n |    |    |-- Shooter: long (nullable = true)\n |    |    |-- Shop Keeper: long (nullable = true)\n |    |    |-- Short: long (nullable = true)\n |    |    |-- Side Scroller: long (nullable = true)\n |    |    |-- Silent Protagonist: long (nullable = true)\n |    |    |-- Simulation: long (nullable = true)\n |    |    |-- Singleplayer: long (nullable = true)\n |    |    |-- Skateboarding: long (nullable = true)\n |    |    |-- Skating: long (nullable = true)\n |    |    |-- Skiing: long (nullable = true)\n |    |    |-- Sniper: long (nullable = true)\n |    |    |-- Snooker: long (nullable = true)\n |    |    |-- Snow: long (nullable = true)\n |    |    |-- Snowboarding: long (nullable = true)\n |    |    |-- Soccer: long (nullable = true)\n |    |    |-- Social Deduction: long (nullable = true)\n |    |    |-- Software: long (nullable = true)\n |    |    |-- Software Training: long (nullable = true)\n |    |    |-- Sokoban: long (nullable = true)\n |    |    |-- Solitaire: long (nullable = true)\n |    |    |-- Souls-like: long (nullable = true)\n |    |    |-- Soundtrack: long (nullable = true)\n |    |    |-- Space: long (nullable = true)\n |    |    |-- Space Sim: long (nullable = true)\n |    |    |-- Spaceships: long (nullable = true)\n |    |    |-- Spectacle fighter: long (nullable = true)\n |    |    |-- Spelling: long (nullable = true)\n |    |    |-- Split Screen: long (nullable = true)\n |    |    |-- Sports: long (nullable = true)\n |    |    |-- Stealth: long (nullable = true)\n |    |    |-- Steam Machine: long (nullable = true)\n |    |    |-- Steampunk: long (nullable = true)\n |    |    |-- Story Rich: long (nullable = true)\n |    |    |-- Strategy: long (nullable = true)\n |    |    |-- Strategy RPG: long (nullable = true)\n |    |    |-- Stylized: long (nullable = true)\n |    |    |-- Submarine: long (nullable = true)\n |    |    |-- Superhero: long (nullable = true)\n |    |    |-- Supernatural: long (nullable = true)\n |    |    |-- Surreal: long (nullable = true)\n |    |    |-- Survival: long (nullable = true)\n |    |    |-- Survival Horror: long (nullable = true)\n |    |    |-- Swordplay: long (nullable = true)\n |    |    |-- Tabletop: long (nullable = true)\n |    |    |-- Tactical: long (nullable = true)\n |    |    |-- Tactical RPG: long (nullable = true)\n |    |    |-- Tanks: long (nullable = true)\n |    |    |-- Team-Based: long (nullable = true)\n |    |    |-- Tennis: long (nullable = true)\n |    |    |-- Text-Based: long (nullable = true)\n |    |    |-- Third Person: long (nullable = true)\n |    |    |-- Third-Person Shooter: long (nullable = true)\n |    |    |-- Thriller: long (nullable = true)\n |    |    |-- Tile-Matching: long (nullable = true)\n |    |    |-- Time Attack: long (nullable = true)\n |    |    |-- Time Management: long (nullable = true)\n |    |    |-- Time Manipulation: long (nullable = true)\n |    |    |-- Time Travel: long (nullable = true)\n |    |    |-- Top-Down: long (nullable = true)\n |    |    |-- Top-Down Shooter: long (nullable = true)\n |    |    |-- Touch-Friendly: long (nullable = true)\n |    |    |-- Tower Defense: long (nullable = true)\n |    |    |-- TrackIR: long (nullable = true)\n |    |    |-- Trading: long (nullable = true)\n |    |    |-- Trading Card Game: long (nullable = true)\n |    |    |-- Traditional Roguelike: long (nullable = true)\n |    |    |-- Trains: long (nullable = true)\n |    |    |-- Transhumanism: long (nullable = true)\n |    |    |-- Transportation: long (nullable = true)\n |    |    |-- Trivia: long (nullable = true)\n |    |    |-- Turn-Based: long (nullable = true)\n |    |    |-- Turn-Based Combat: long (nullable = true)\n |    |    |-- Turn-Based Strategy: long (nullable = true)\n |    |    |-- Turn-Based Tactics: long (nullable = true)\n |    |    |-- Tutorial: long (nullable = true)\n |    |    |-- Twin Stick Shooter: long (nullable = true)\n |    |    |-- Typing: long (nullable = true)\n |    |    |-- Underground: long (nullable = true)\n |    |    |-- Underwater: long (nullable = true)\n |    |    |-- Unforgiving: long (nullable = true)\n |    |    |-- Utilities: long (nullable = true)\n |    |    |-- VR: long (nullable = true)\n |    |    |-- VR Only: long (nullable = true)\n |    |    |-- Vampire: long (nullable = true)\n |    |    |-- Vehicular Combat: long (nullable = true)\n |    |    |-- Video Production: long (nullable = true)\n |    |    |-- Vikings: long (nullable = true)\n |    |    |-- Villain Protagonist: long (nullable = true)\n |    |    |-- Violent: long (nullable = true)\n |    |    |-- Visual Novel: long (nullable = true)\n |    |    |-- Voice Control: long (nullable = true)\n |    |    |-- Volleyball: long (nullable = true)\n |    |    |-- Voxel: long (nullable = true)\n |    |    |-- Walking Simulator: long (nullable = true)\n |    |    |-- War: long (nullable = true)\n |    |    |-- Wargame: long (nullable = true)\n |    |    |-- Warhammer 40K: long (nullable = true)\n |    |    |-- Web Publishing: long (nullable = true)\n |    |    |-- Well-Written: long (nullable = true)\n |    |    |-- Werewolves: long (nullable = true)\n |    |    |-- Western: long (nullable = true)\n |    |    |-- Wholesome: long (nullable = true)\n |    |    |-- Word Game: long (nullable = true)\n |    |    |-- World War I: long (nullable = true)\n |    |    |-- World War II: long (nullable = true)\n |    |    |-- Wrestling: long (nullable = true)\n |    |    |-- Zombies: long (nullable = true)\n |    |    |-- e-sports: long (nullable = true)\n |    |-- type: string (nullable = true)\n |    |-- website: string (nullable = true)\n |-- id: string (nullable = true)\n\n"
     ]
    },
    {
     "output_type": "display_data",
     "data": {
      "text/html": [
       "<style scoped>\n",
       "  .table-result-container {\n",
       "    max-height: 300px;\n",
       "    overflow: auto;\n",
       "  }\n",
       "  table, th, td {\n",
       "    border: 1px solid black;\n",
       "    border-collapse: collapse;\n",
       "  }\n",
       "  th, td {\n",
       "    padding: 5px;\n",
       "  }\n",
       "  th {\n",
       "    text-align: left;\n",
       "  }\n",
       "</style><div class='table-result-container'><table class='table-result'><thead style='background-color: white'><tr><th>data</th><th>id</th></tr></thead><tbody><tr><td>List(10, List(Multi-player, Valve Anti-Cheat enabled, Online PvP, Shared/Split Screen PvP, PvP), 13990, Valve, 0, Action, https://cdn.akamai.steamstatic.com/steam/apps/10/header.jpg?t=1666823513, 999, English, French, German, Italian, Spanish - Spain, Simplified Chinese, Traditional Chinese, Korean, Counter-Strike, 5199, 10,000,000 .. 20,000,000, List(true, true, true), 201215, 999, Valve, 2000/11/1, 0, Play the world's number 1 online action game. Engage in an incredibly realistic brand of terrorist warfare in this wildly popular team-based game. Ally with teammates to complete strategic missions. Take out enemy sites. Rescue hostages. Your role affects your team's success. Your team's success affects your role., List(266, 1191, null, null, null, null, null, null, null, null, null, null, null, null, null, null, null, 5426, null, null, null, null, null, null, null, null, null, null, null, null, null, null, null, null, null, 227, null, null, null, null, null, null, null, null, null, null, null, null, null, null, null, null, null, null, null, null, null, null, null, null, null, null, null, null, null, null, null, null, null, null, null, null, null, null, null, null, null, 2784, null, null, null, null, null, null, null, null, null, null, null, null, 1607, null, null, null, null, null, null, null, null, null, null, null, null, null, null, null, null, null, null, null, null, null, null, null, null, null, null, null, null, null, null, null, null, null, null, null, null, null, null, null, null, null, null, null, null, null, null, null, null, null, 4831, null, null, null, null, null, null, null, null, null, 1707, null, null, null, null, null, null, null, null, null, null, null, null, null, null, null, null, null, null, null, null, null, null, null, null, null, null, null, null, null, null, null, null, null, null, null, null, null, null, null, null, null, null, null, null, null, null, null, null, null, null, null, null, null, null, null, null, null, null, null, null, null, null, null, null, null, null, null, null, null, null, null, null, null, null, null, null, null, null, null, 632, null, null, null, null, null, null, null, null, null, null, null, 3392, null, null, null, null, null, null, null, null, null, null, null, null, null, null, null, null, 131, null, null, 769, null, null, null, null, null, null, null, null, null, null, null, null, null, null, null, null, null, null, null, null, null, null, null, null, null, null, null, null, null, null, null, null, null, null, 881, null, null, null, null, null, null, null, null, null, null, null, null, null, null, null, null, null, null, null, null, null, null, null, null, null, null, null, null, null, null, null, 289, null, null, null, 3353, null, null, null, null, null, null, null, null, null, null, null, null, null, null, null, null, null, null, null, null, null, null, null, null, null, null, null, null, null, null, null, null, 614, null, null, null, null, null, null, 304, null, null, null, 1344, null, null, 1864, null, null, null, null, null, null, null, null, null, null, null, null, null, null, null, null, null, null, null, null, null, null, null, null, null, null, null, null, null, null, null, null, null, null, null, null, null, null, null, null, null, null, null, null, null, null, null, null, null, null, null, null, null, null, null, null, null, null, null, 1192), game, )</td><td>10</td></tr><tr><td>List(1000000, List(Single-player, Partial Controller Support, Steam Achievements, Steam Cloud), 0, IndigoBlue Game Studio, 0, Action, Adventure, Indie, https://cdn.akamai.steamstatic.com/steam/apps/1000000/header.jpg?t=1655723048, 999, English, Korean, Simplified Chinese, ASCENXION, 5, 0 .. 20,000, List(false, false, true), 27, 999, PsychoFlux Entertainment, 2021/05/14, 0, ASCENXION is a 2D shoot 'em up game where you explore the field to progress. Players must overcome puzzles, traps, elite units, boss fights, and other various obstacles while navigating the field. Grow stronger through rewards earned, to uncover the truth of this world., List(null, null, null, 159, null, null, null, null, null, null, null, null, null, null, null, null, 111, 138, null, null, null, null, null, 73, null, null, null, null, null, null, null, null, null, null, null, null, null, null, 88, null, null, null, null, null, null, null, null, null, null, null, null, null, null, null, null, null, null, null, null, 179, null, null, null, null, null, null, null, null, null, null, null, null, null, null, null, null, null, null, null, null, null, null, null, null, null, 124, null, null, null, null, null, null, 148, null, null, null, null, null, null, null, null, null, null, null, null, null, null, null, null, null, null, null, null, null, null, 161, null, null, null, null, null, null, null, null, null, null, null, null, null, null, null, null, null, null, null, null, null, null, null, null, null, null, null, null, null, null, null, null, null, null, null, null, null, null, null, null, null, null, null, null, 51, null, null, null, null, null, null, null, 38, null, null, null, null, null, null, null, null, null, null, null, null, null, null, null, null, null, null, null, null, 69, null, null, null, null, null, null, null, null, null, null, null, null, null, null, null, null, null, null, null, null, null, null, null, null, null, null, null, null, null, null, null, null, null, null, null, null, null, null, null, 181, null, null, null, 136, null, null, null, null, null, null, null, null, null, null, null, null, null, null, null, null, null, null, null, null, null, null, null, null, null, null, null, null, null, null, null, null, null, null, null, null, null, null, null, null, null, null, null, null, null, null, null, null, null, null, null, null, null, null, null, null, null, null, null, null, null, null, null, null, null, null, null, null, null, null, null, null, null, null, null, null, null, null, null, null, 100, null, null, null, null, null, null, null, null, null, null, null, null, null, null, null, null, null, 186, 159, null, null, 175, null, null, 71, null, null, null, null, null, null, null, null, null, null, null, null, null, null, null, null, null, null, null, null, null, null, null, null, null, null, null, null, null, null, null, null, null, null, null, null, null, null, null, null, null, null, null, null, null, null, null, null, null, null, null, null, null, null, null, null, null, null, null, null, null, null, null, null, null, null, null, null, 170, null, null, null, null, null, null, null, null, null, null, null, null, null, null, null, null, null, null, null, null, null, null, null, null, null, null, null, null, null, null, null, null), game, )</td><td>1000000</td></tr><tr><td>List(1000010, List(Single-player, Partial Controller Support, Steam Achievements, Steam Cloud, Steam Trading Cards), 99, NEXT Studios, 70, Adventure, Indie, RPG, Strategy, https://cdn.akamai.steamstatic.com/steam/apps/1000010/header.jpg?t=1655724189, 1999, Simplified Chinese, English, Japanese, Traditional Chinese, French, German, Spanish - Spain, Russian, Portuguese - Brazil, Crown Trick, 646, 200,000 .. 500,000, List(false, false, true), 4032, 599, Team17, NEXT Studios, 2020/10/16, 0, Enter a labyrinth that moves as you move, where mastering the elements is key to defeating enemies and uncovering the mysteries of this underground world. With a new experience awaiting every time you enter the dungeon, let the power bestowed by the crown guide you in this challenging adventure!, List(null, null, null, 205, null, null, null, null, null, null, null, null, null, null, null, null, null, null, null, null, null, 179, null, 225, null, null, null, null, null, null, null, null, null, null, null, null, null, null, null, null, null, null, null, null, null, null, null, null, null, null, null, null, null, null, null, null, null, null, null, null, null, null, null, null, null, null, null, null, null, null, null, null, null, null, null, null, null, null, null, null, null, null, null, null, null, null, null, null, null, null, null, null, null, null, null, null, null, null, null, null, null, null, null, null, null, null, null, null, null, null, null, null, null, null, null, 189, null, null, null, null, null, null, null, 225, null, null, null, null, null, null, null, null, null, null, null, null, null, null, null, null, null, null, null, 179, null, null, null, null, 217, null, null, null, null, null, null, null, null, null, null, null, null, null, null, null, null, null, null, null, null, null, null, null, null, null, null, null, null, null, null, null, null, null, null, null, null, null, null, null, null, null, null, null, null, null, null, null, null, null, null, null, null, null, null, null, null, null, null, null, null, null, null, null, null, null, null, null, 171, null, null, null, null, null, null, null, null, null, null, null, null, null, null, null, null, null, null, null, null, null, null, null, null, null, null, null, null, null, null, null, null, null, null, null, null, null, null, null, null, null, null, null, null, null, null, null, null, null, null, null, null, null, null, null, null, null, 231, null, null, null, null, null, null, null, null, null, null, null, null, null, null, null, null, null, null, null, null, null, null, null, null, 237, null, null, null, null, null, null, null, null, null, null, 192, null, null, null, null, null, 268, 226, null, null, null, null, null, null, null, null, null, null, null, null, null, null, null, null, null, null, null, null, null, 211, null, null, null, null, null, null, null, null, null, null, null, null, null, null, null, null, null, null, null, null, null, null, null, null, null, null, 225, null, null, null, null, null, null, null, null, null, null, 184, null, null, null, null, null, null, null, null, null, null, null, null, null, 178, null, null, null, null, null, null, null, null, null, null, null, 222, 254, 216, null, null, null, null, null, null, null, null, null, null, null, null, null, null, null, null, null, null, null, null, null, null, null, null, null, null, null, null, null, null, null, null, null, null, null), game, )</td><td>1000010</td></tr><tr><td>List(1000030, List(Multi-player, Single-player, Co-op, Steam Achievements, Steam Cloud, Shared/Split Screen, Full controller support, Steam Trading Cards, Shared/Split Screen Co-op, Remote Play on Phone, Remote Play on Tablet, Remote Play on TV, Remote Play Together), 76, Vertigo Gaming Inc., 0, Action, Indie, Simulation, Strategy, https://cdn.akamai.steamstatic.com/steam/apps/1000030/header.jpg?t=1660866300, 1999, English, Cook, Serve, Delicious! 3?!, 115, 100,000 .. 200,000, List(false, true, true), 1575, 1999, Vertigo Gaming Inc., 2020/10/14, 0, Cook, serve and manage your food truck as you dish out hundreds of different foods across war-torn America in this massive sequel to the million-selling series!, List(null, null, null, 187, null, null, null, null, null, null, null, null, null, null, null, null, null, 175, null, null, null, null, null, null, null, null, null, null, null, null, null, 200, null, null, null, null, null, null, null, null, null, null, null, null, null, null, null, null, null, null, null, null, null, null, null, null, null, null, null, null, null, null, null, null, null, null, null, 209, null, null, null, null, null, null, null, null, null, null, null, 175, 123, null, null, null, null, null, null, null, 176, null, null, null, null, null, 119, null, null, null, null, null, null, null, null, null, null, null, null, null, null, null, null, null, null, null, null, 208, null, null, null, null, null, null, null, null, null, null, null, null, null, null, null, null, null, null, null, null, null, null, null, null, null, null, 175, null, null, null, 120, null, null, null, null, null, null, null, null, null, 184, null, null, null, null, null, null, null, null, null, null, null, null, null, null, null, null, null, null, null, null, null, null, null, null, null, null, null, null, null, null, null, null, null, null, null, null, null, null, null, null, null, null, null, null, null, null, null, null, null, null, 163, 158, null, null, null, null, null, null, null, null, null, 213, null, null, null, null, null, null, null, null, null, null, null, null, null, null, null, null, null, null, null, null, null, null, null, 157, null, null, null, null, null, null, null, null, null, null, null, null, null, null, null, null, null, null, null, null, null, null, null, null, null, null, null, null, null, null, null, null, null, null, null, null, null, null, null, null, null, null, null, null, null, null, null, null, null, null, null, null, null, null, null, null, null, null, null, null, null, null, null, null, null, null, null, null, null, null, null, null, null, null, null, null, null, null, null, null, null, null, null, null, null, null, null, null, null, null, null, null, null, null, null, 182, 134, null, null, null, null, null, null, null, null, null, null, null, null, null, null, null, null, null, null, null, null, null, null, null, null, null, null, 190, null, null, null, null, null, null, null, null, null, null, null, null, null, null, null, null, null, null, null, null, null, null, null, null, null, null, null, null, null, null, null, null, null, null, null, null, null, null, null, null, null, null, 221, null, null, null, null, null, null, null, null, null, null, null, null, null, null, null, null, null, null, null, null, null, null, null, null, null, null, null, null, null, null, null), game, http://www.cookservedelicious.com)</td><td>1000030</td></tr><tr><td>List(1000040, List(Single-player), 0, DoubleC Games, 0, Action, Casual, Indie, Simulation, https://cdn.akamai.steamstatic.com/steam/apps/1000040/header.jpg?t=1627033870, 199, Simplified Chinese, 细胞战争, 1, 0 .. 20,000, List(false, false, true), 0, 199, DoubleC Games, 2019/03/30, 0, 这是一款打击感十足的细胞主题游戏！操作简单但活下去却不简单，“你”作为侵入人体的细菌病毒，通过与细胞之间的战斗来获得基因变异点数和进入下一关的资格，每种细菌病毒都有独特的能力和攻击效果，你是否可以破坏五大器官并占领人体呢！？, List(null, null, null, null, null, null, null, null, null, null, null, null, null, null, null, null, null, 22, null, null, null, null, null, null, null, null, null, null, null, null, null, null, null, null, null, null, null, null, null, null, null, null, null, null, null, null, null, null, null, null, null, null, null, null, null, null, null, null, null, null, null, null, null, null, null, null, null, 22, null, null, null, null, null, null, null, null, null, null, null, null, null, null, null, null, null, null, null, null, null, null, null, null, null, null, null, null, null, null, null, null, null, null, null, null, null, null, null, null, null, null, null, null, null, null, null, null, null, null, null, null, null, null, null, null, null, null, null, null, null, null, null, null, null, null, null, null, null, null, null, null, null, null, null, null, null, null, null, null, null, null, null, null, null, null, null, null, null, null, null, null, null, null, null, null, null, null, null, null, null, null, null, null, null, null, null, null, null, null, null, null, null, null, null, null, null, null, null, null, null, 21, null, null, null, null, null, null, null, null, null, null, null, null, null, null, null, null, null, null, null, null, null, null, null, null, null, null, null, null, null, null, null, null, null, null, null, null, null, null, null, null, null, null, null, null, null, null, null, null, null, null, null, null, null, null, null, null, null, null, null, null, null, null, null, null, null, null, null, null, null, null, null, null, null, null, null, null, null, null, null, null, null, null, null, null, null, null, null, null, null, null, null, null, null, null, null, null, null, null, null, null, null, null, null, null, null, null, null, null, null, null, null, null, null, null, null, null, null, null, null, null, null, null, null, null, null, null, null, null, null, null, null, null, null, null, null, null, null, null, null, null, null, null, null, null, null, null, null, null, 20, null, null, null, null, null, null, null, null, null, null, null, null, null, null, null, null, null, null, null, null, null, null, null, null, null, null, null, null, null, null, null, null, null, null, null, null, null, null, null, null, null, null, null, null, null, null, null, null, null, null, null, null, null, null, null, null, null, null, null, null, null, null, null, null, null, null, null, null, null, null, null, null, null, null, null, null, null, null, null, null, null, null, null, null, null, null, null, null, null, null, null, null, null, null, null, null, null, null, null, null, null, null), game, )</td><td>1000040</td></tr></tbody></table></div>"
      ]
     },
     "metadata": {
      "application/vnd.databricks.v1+output": {
       "addedWidgets": {},
       "aggData": [],
       "aggError": "",
       "aggOverflow": false,
       "aggSchema": [],
       "aggSeriesLimitReached": false,
       "aggType": "",
       "arguments": {},
       "columnCustomDisplayInfos": {},
       "data": [
        [
         [
          10,
          [
           "Multi-player",
           "Valve Anti-Cheat enabled",
           "Online PvP",
           "Shared/Split Screen PvP",
           "PvP"
          ],
          13990,
          "Valve",
          "0",
          "Action",
          "https://cdn.akamai.steamstatic.com/steam/apps/10/header.jpg?t=1666823513",
          "999",
          "English, French, German, Italian, Spanish - Spain, Simplified Chinese, Traditional Chinese, Korean",
          "Counter-Strike",
          5199,
          "10,000,000 .. 20,000,000",
          [
           true,
           true,
           true
          ],
          201215,
          "999",
          "Valve",
          "2000/11/1",
          "0",
          "Play the world's number 1 online action game. Engage in an incredibly realistic brand of terrorist warfare in this wildly popular team-based game. Ally with teammates to complete strategic missions. Take out enemy sites. Rescue hostages. Your role affects your team's success. Your team's success affects your role.",
          [
           266,
           1191,
           null,
           null,
           null,
           null,
           null,
           null,
           null,
           null,
           null,
           null,
           null,
           null,
           null,
           null,
           null,
           5426,
           null,
           null,
           null,
           null,
           null,
           null,
           null,
           null,
           null,
           null,
           null,
           null,
           null,
           null,
           null,
           null,
           null,
           227,
           null,
           null,
           null,
           null,
           null,
           null,
           null,
           null,
           null,
           null,
           null,
           null,
           null,
           null,
           null,
           null,
           null,
           null,
           null,
           null,
           null,
           null,
           null,
           null,
           null,
           null,
           null,
           null,
           null,
           null,
           null,
           null,
           null,
           null,
           null,
           null,
           null,
           null,
           null,
           null,
           null,
           2784,
           null,
           null,
           null,
           null,
           null,
           null,
           null,
           null,
           null,
           null,
           null,
           null,
           1607,
           null,
           null,
           null,
           null,
           null,
           null,
           null,
           null,
           null,
           null,
           null,
           null,
           null,
           null,
           null,
           null,
           null,
           null,
           null,
           null,
           null,
           null,
           null,
           null,
           null,
           null,
           null,
           null,
           null,
           null,
           null,
           null,
           null,
           null,
           null,
           null,
           null,
           null,
           null,
           null,
           null,
           null,
           null,
           null,
           null,
           null,
           null,
           null,
           null,
           4831,
           null,
           null,
           null,
           null,
           null,
           null,
           null,
           null,
           null,
           1707,
           null,
           null,
           null,
           null,
           null,
           null,
           null,
           null,
           null,
           null,
           null,
           null,
           null,
           null,
           null,
           null,
           null,
           null,
           null,
           null,
           null,
           null,
           null,
           null,
           null,
           null,
           null,
           null,
           null,
           null,
           null,
           null,
           null,
           null,
           null,
           null,
           null,
           null,
           null,
           null,
           null,
           null,
           null,
           null,
           null,
           null,
           null,
           null,
           null,
           null,
           null,
           null,
           null,
           null,
           null,
           null,
           null,
           null,
           null,
           null,
           null,
           null,
           null,
           null,
           null,
           null,
           null,
           null,
           null,
           null,
           null,
           null,
           null,
           null,
           null,
           null,
           null,
           null,
           null,
           632,
           null,
           null,
           null,
           null,
           null,
           null,
           null,
           null,
           null,
           null,
           null,
           3392,
           null,
           null,
           null,
           null,
           null,
           null,
           null,
           null,
           null,
           null,
           null,
           null,
           null,
           null,
           null,
           null,
           131,
           null,
           null,
           769,
           null,
           null,
           null,
           null,
           null,
           null,
           null,
           null,
           null,
           null,
           null,
           null,
           null,
           null,
           null,
           null,
           null,
           null,
           null,
           null,
           null,
           null,
           null,
           null,
           null,
           null,
           null,
           null,
           null,
           null,
           null,
           null,
           null,
           null,
           881,
           null,
           null,
           null,
           null,
           null,
           null,
           null,
           null,
           null,
           null,
           null,
           null,
           null,
           null,
           null,
           null,
           null,
           null,
           null,
           null,
           null,
           null,
           null,
           null,
           null,
           null,
           null,
           null,
           null,
           null,
           null,
           289,
           null,
           null,
           null,
           3353,
           null,
           null,
           null,
           null,
           null,
           null,
           null,
           null,
           null,
           null,
           null,
           null,
           null,
           null,
           null,
           null,
           null,
           null,
           null,
           null,
           null,
           null,
           null,
           null,
           null,
           null,
           null,
           null,
           null,
           null,
           null,
           null,
           614,
           null,
           null,
           null,
           null,
           null,
           null,
           304,
           null,
           null,
           null,
           1344,
           null,
           null,
           1864,
           null,
           null,
           null,
           null,
           null,
           null,
           null,
           null,
           null,
           null,
           null,
           null,
           null,
           null,
           null,
           null,
           null,
           null,
           null,
           null,
           null,
           null,
           null,
           null,
           null,
           null,
           null,
           null,
           null,
           null,
           null,
           null,
           null,
           null,
           null,
           null,
           null,
           null,
           null,
           null,
           null,
           null,
           null,
           null,
           null,
           null,
           null,
           null,
           null,
           null,
           null,
           null,
           null,
           null,
           null,
           null,
           null,
           null,
           null,
           1192
          ],
          "game",
          ""
         ],
         "10"
        ],
        [
         [
          1000000,
          [
           "Single-player",
           "Partial Controller Support",
           "Steam Achievements",
           "Steam Cloud"
          ],
          0,
          "IndigoBlue Game Studio",
          "0",
          "Action, Adventure, Indie",
          "https://cdn.akamai.steamstatic.com/steam/apps/1000000/header.jpg?t=1655723048",
          "999",
          "English, Korean, Simplified Chinese",
          "ASCENXION",
          5,
          "0 .. 20,000",
          [
           false,
           false,
           true
          ],
          27,
          "999",
          "PsychoFlux Entertainment",
          "2021/05/14",
          "0",
          "ASCENXION is a 2D shoot 'em up game where you explore the field to progress. Players must overcome puzzles, traps, elite units, boss fights, and other various obstacles while navigating the field. Grow stronger through rewards earned, to uncover the truth of this world.",
          [
           null,
           null,
           null,
           159,
           null,
           null,
           null,
           null,
           null,
           null,
           null,
           null,
           null,
           null,
           null,
           null,
           111,
           138,
           null,
           null,
           null,
           null,
           null,
           73,
           null,
           null,
           null,
           null,
           null,
           null,
           null,
           null,
           null,
           null,
           null,
           null,
           null,
           null,
           88,
           null,
           null,
           null,
           null,
           null,
           null,
           null,
           null,
           null,
           null,
           null,
           null,
           null,
           null,
           null,
           null,
           null,
           null,
           null,
           null,
           179,
           null,
           null,
           null,
           null,
           null,
           null,
           null,
           null,
           null,
           null,
           null,
           null,
           null,
           null,
           null,
           null,
           null,
           null,
           null,
           null,
           null,
           null,
           null,
           null,
           null,
           124,
           null,
           null,
           null,
           null,
           null,
           null,
           148,
           null,
           null,
           null,
           null,
           null,
           null,
           null,
           null,
           null,
           null,
           null,
           null,
           null,
           null,
           null,
           null,
           null,
           null,
           null,
           null,
           null,
           null,
           161,
           null,
           null,
           null,
           null,
           null,
           null,
           null,
           null,
           null,
           null,
           null,
           null,
           null,
           null,
           null,
           null,
           null,
           null,
           null,
           null,
           null,
           null,
           null,
           null,
           null,
           null,
           null,
           null,
           null,
           null,
           null,
           null,
           null,
           null,
           null,
           null,
           null,
           null,
           null,
           null,
           null,
           null,
           null,
           null,
           51,
           null,
           null,
           null,
           null,
           null,
           null,
           null,
           38,
           null,
           null,
           null,
           null,
           null,
           null,
           null,
           null,
           null,
           null,
           null,
           null,
           null,
           null,
           null,
           null,
           null,
           null,
           null,
           null,
           69,
           null,
           null,
           null,
           null,
           null,
           null,
           null,
           null,
           null,
           null,
           null,
           null,
           null,
           null,
           null,
           null,
           null,
           null,
           null,
           null,
           null,
           null,
           null,
           null,
           null,
           null,
           null,
           null,
           null,
           null,
           null,
           null,
           null,
           null,
           null,
           null,
           null,
           null,
           null,
           181,
           null,
           null,
           null,
           136,
           null,
           null,
           null,
           null,
           null,
           null,
           null,
           null,
           null,
           null,
           null,
           null,
           null,
           null,
           null,
           null,
           null,
           null,
           null,
           null,
           null,
           null,
           null,
           null,
           null,
           null,
           null,
           null,
           null,
           null,
           null,
           null,
           null,
           null,
           null,
           null,
           null,
           null,
           null,
           null,
           null,
           null,
           null,
           null,
           null,
           null,
           null,
           null,
           null,
           null,
           null,
           null,
           null,
           null,
           null,
           null,
           null,
           null,
           null,
           null,
           null,
           null,
           null,
           null,
           null,
           null,
           null,
           null,
           null,
           null,
           null,
           null,
           null,
           null,
           null,
           null,
           null,
           null,
           null,
           null,
           100,
           null,
           null,
           null,
           null,
           null,
           null,
           null,
           null,
           null,
           null,
           null,
           null,
           null,
           null,
           null,
           null,
           null,
           186,
           159,
           null,
           null,
           175,
           null,
           null,
           71,
           null,
           null,
           null,
           null,
           null,
           null,
           null,
           null,
           null,
           null,
           null,
           null,
           null,
           null,
           null,
           null,
           null,
           null,
           null,
           null,
           null,
           null,
           null,
           null,
           null,
           null,
           null,
           null,
           null,
           null,
           null,
           null,
           null,
           null,
           null,
           null,
           null,
           null,
           null,
           null,
           null,
           null,
           null,
           null,
           null,
           null,
           null,
           null,
           null,
           null,
           null,
           null,
           null,
           null,
           null,
           null,
           null,
           null,
           null,
           null,
           null,
           null,
           null,
           null,
           null,
           null,
           null,
           null,
           170,
           null,
           null,
           null,
           null,
           null,
           null,
           null,
           null,
           null,
           null,
           null,
           null,
           null,
           null,
           null,
           null,
           null,
           null,
           null,
           null,
           null,
           null,
           null,
           null,
           null,
           null,
           null,
           null,
           null,
           null,
           null,
           null
          ],
          "game",
          ""
         ],
         "1000000"
        ],
        [
         [
          1000010,
          [
           "Single-player",
           "Partial Controller Support",
           "Steam Achievements",
           "Steam Cloud",
           "Steam Trading Cards"
          ],
          99,
          "NEXT Studios",
          "70",
          "Adventure, Indie, RPG, Strategy",
          "https://cdn.akamai.steamstatic.com/steam/apps/1000010/header.jpg?t=1655724189",
          "1999",
          "Simplified Chinese, English, Japanese, Traditional Chinese, French, German, Spanish - Spain, Russian, Portuguese - Brazil",
          "Crown Trick",
          646,
          "200,000 .. 500,000",
          [
           false,
           false,
           true
          ],
          4032,
          "599",
          "Team17, NEXT Studios",
          "2020/10/16",
          "0",
          "Enter a labyrinth that moves as you move, where mastering the elements is key to defeating enemies and uncovering the mysteries of this underground world. With a new experience awaiting every time you enter the dungeon, let the power bestowed by the crown guide you in this challenging adventure!",
          [
           null,
           null,
           null,
           205,
           null,
           null,
           null,
           null,
           null,
           null,
           null,
           null,
           null,
           null,
           null,
           null,
           null,
           null,
           null,
           null,
           null,
           179,
           null,
           225,
           null,
           null,
           null,
           null,
           null,
           null,
           null,
           null,
           null,
           null,
           null,
           null,
           null,
           null,
           null,
           null,
           null,
           null,
           null,
           null,
           null,
           null,
           null,
           null,
           null,
           null,
           null,
           null,
           null,
           null,
           null,
           null,
           null,
           null,
           null,
           null,
           null,
           null,
           null,
           null,
           null,
           null,
           null,
           null,
           null,
           null,
           null,
           null,
           null,
           null,
           null,
           null,
           null,
           null,
           null,
           null,
           null,
           null,
           null,
           null,
           null,
           null,
           null,
           null,
           null,
           null,
           null,
           null,
           null,
           null,
           null,
           null,
           null,
           null,
           null,
           null,
           null,
           null,
           null,
           null,
           null,
           null,
           null,
           null,
           null,
           null,
           null,
           null,
           null,
           null,
           null,
           189,
           null,
           null,
           null,
           null,
           null,
           null,
           null,
           225,
           null,
           null,
           null,
           null,
           null,
           null,
           null,
           null,
           null,
           null,
           null,
           null,
           null,
           null,
           null,
           null,
           null,
           null,
           null,
           179,
           null,
           null,
           null,
           null,
           217,
           null,
           null,
           null,
           null,
           null,
           null,
           null,
           null,
           null,
           null,
           null,
           null,
           null,
           null,
           null,
           null,
           null,
           null,
           null,
           null,
           null,
           null,
           null,
           null,
           null,
           null,
           null,
           null,
           null,
           null,
           null,
           null,
           null,
           null,
           null,
           null,
           null,
           null,
           null,
           null,
           null,
           null,
           null,
           null,
           null,
           null,
           null,
           null,
           null,
           null,
           null,
           null,
           null,
           null,
           null,
           null,
           null,
           null,
           null,
           null,
           null,
           null,
           null,
           null,
           null,
           null,
           null,
           171,
           null,
           null,
           null,
           null,
           null,
           null,
           null,
           null,
           null,
           null,
           null,
           null,
           null,
           null,
           null,
           null,
           null,
           null,
           null,
           null,
           null,
           null,
           null,
           null,
           null,
           null,
           null,
           null,
           null,
           null,
           null,
           null,
           null,
           null,
           null,
           null,
           null,
           null,
           null,
           null,
           null,
           null,
           null,
           null,
           null,
           null,
           null,
           null,
           null,
           null,
           null,
           null,
           null,
           null,
           null,
           null,
           null,
           231,
           null,
           null,
           null,
           null,
           null,
           null,
           null,
           null,
           null,
           null,
           null,
           null,
           null,
           null,
           null,
           null,
           null,
           null,
           null,
           null,
           null,
           null,
           null,
           null,
           237,
           null,
           null,
           null,
           null,
           null,
           null,
           null,
           null,
           null,
           null,
           192,
           null,
           null,
           null,
           null,
           null,
           268,
           226,
           null,
           null,
           null,
           null,
           null,
           null,
           null,
           null,
           null,
           null,
           null,
           null,
           null,
           null,
           null,
           null,
           null,
           null,
           null,
           null,
           null,
           211,
           null,
           null,
           null,
           null,
           null,
           null,
           null,
           null,
           null,
           null,
           null,
           null,
           null,
           null,
           null,
           null,
           null,
           null,
           null,
           null,
           null,
           null,
           null,
           null,
           null,
           null,
           225,
           null,
           null,
           null,
           null,
           null,
           null,
           null,
           null,
           null,
           null,
           184,
           null,
           null,
           null,
           null,
           null,
           null,
           null,
           null,
           null,
           null,
           null,
           null,
           null,
           178,
           null,
           null,
           null,
           null,
           null,
           null,
           null,
           null,
           null,
           null,
           null,
           222,
           254,
           216,
           null,
           null,
           null,
           null,
           null,
           null,
           null,
           null,
           null,
           null,
           null,
           null,
           null,
           null,
           null,
           null,
           null,
           null,
           null,
           null,
           null,
           null,
           null,
           null,
           null,
           null,
           null,
           null,
           null,
           null,
           null,
           null,
           null,
           null,
           null
          ],
          "game",
          ""
         ],
         "1000010"
        ],
        [
         [
          1000030,
          [
           "Multi-player",
           "Single-player",
           "Co-op",
           "Steam Achievements",
           "Steam Cloud",
           "Shared/Split Screen",
           "Full controller support",
           "Steam Trading Cards",
           "Shared/Split Screen Co-op",
           "Remote Play on Phone",
           "Remote Play on Tablet",
           "Remote Play on TV",
           "Remote Play Together"
          ],
          76,
          "Vertigo Gaming Inc.",
          "0",
          "Action, Indie, Simulation, Strategy",
          "https://cdn.akamai.steamstatic.com/steam/apps/1000030/header.jpg?t=1660866300",
          "1999",
          "English",
          "Cook, Serve, Delicious! 3?!",
          115,
          "100,000 .. 200,000",
          [
           false,
           true,
           true
          ],
          1575,
          "1999",
          "Vertigo Gaming Inc.",
          "2020/10/14",
          "0",
          "Cook, serve and manage your food truck as you dish out hundreds of different foods across war-torn America in this massive sequel to the million-selling series!",
          [
           null,
           null,
           null,
           187,
           null,
           null,
           null,
           null,
           null,
           null,
           null,
           null,
           null,
           null,
           null,
           null,
           null,
           175,
           null,
           null,
           null,
           null,
           null,
           null,
           null,
           null,
           null,
           null,
           null,
           null,
           null,
           200,
           null,
           null,
           null,
           null,
           null,
           null,
           null,
           null,
           null,
           null,
           null,
           null,
           null,
           null,
           null,
           null,
           null,
           null,
           null,
           null,
           null,
           null,
           null,
           null,
           null,
           null,
           null,
           null,
           null,
           null,
           null,
           null,
           null,
           null,
           null,
           209,
           null,
           null,
           null,
           null,
           null,
           null,
           null,
           null,
           null,
           null,
           null,
           175,
           123,
           null,
           null,
           null,
           null,
           null,
           null,
           null,
           176,
           null,
           null,
           null,
           null,
           null,
           119,
           null,
           null,
           null,
           null,
           null,
           null,
           null,
           null,
           null,
           null,
           null,
           null,
           null,
           null,
           null,
           null,
           null,
           null,
           null,
           null,
           208,
           null,
           null,
           null,
           null,
           null,
           null,
           null,
           null,
           null,
           null,
           null,
           null,
           null,
           null,
           null,
           null,
           null,
           null,
           null,
           null,
           null,
           null,
           null,
           null,
           null,
           null,
           175,
           null,
           null,
           null,
           120,
           null,
           null,
           null,
           null,
           null,
           null,
           null,
           null,
           null,
           184,
           null,
           null,
           null,
           null,
           null,
           null,
           null,
           null,
           null,
           null,
           null,
           null,
           null,
           null,
           null,
           null,
           null,
           null,
           null,
           null,
           null,
           null,
           null,
           null,
           null,
           null,
           null,
           null,
           null,
           null,
           null,
           null,
           null,
           null,
           null,
           null,
           null,
           null,
           null,
           null,
           null,
           null,
           null,
           null,
           null,
           null,
           null,
           null,
           null,
           null,
           163,
           158,
           null,
           null,
           null,
           null,
           null,
           null,
           null,
           null,
           null,
           213,
           null,
           null,
           null,
           null,
           null,
           null,
           null,
           null,
           null,
           null,
           null,
           null,
           null,
           null,
           null,
           null,
           null,
           null,
           null,
           null,
           null,
           null,
           null,
           157,
           null,
           null,
           null,
           null,
           null,
           null,
           null,
           null,
           null,
           null,
           null,
           null,
           null,
           null,
           null,
           null,
           null,
           null,
           null,
           null,
           null,
           null,
           null,
           null,
           null,
           null,
           null,
           null,
           null,
           null,
           null,
           null,
           null,
           null,
           null,
           null,
           null,
           null,
           null,
           null,
           null,
           null,
           null,
           null,
           null,
           null,
           null,
           null,
           null,
           null,
           null,
           null,
           null,
           null,
           null,
           null,
           null,
           null,
           null,
           null,
           null,
           null,
           null,
           null,
           null,
           null,
           null,
           null,
           null,
           null,
           null,
           null,
           null,
           null,
           null,
           null,
           null,
           null,
           null,
           null,
           null,
           null,
           null,
           null,
           null,
           null,
           null,
           null,
           null,
           null,
           null,
           null,
           null,
           null,
           null,
           182,
           134,
           null,
           null,
           null,
           null,
           null,
           null,
           null,
           null,
           null,
           null,
           null,
           null,
           null,
           null,
           null,
           null,
           null,
           null,
           null,
           null,
           null,
           null,
           null,
           null,
           null,
           null,
           190,
           null,
           null,
           null,
           null,
           null,
           null,
           null,
           null,
           null,
           null,
           null,
           null,
           null,
           null,
           null,
           null,
           null,
           null,
           null,
           null,
           null,
           null,
           null,
           null,
           null,
           null,
           null,
           null,
           null,
           null,
           null,
           null,
           null,
           null,
           null,
           null,
           null,
           null,
           null,
           null,
           null,
           null,
           221,
           null,
           null,
           null,
           null,
           null,
           null,
           null,
           null,
           null,
           null,
           null,
           null,
           null,
           null,
           null,
           null,
           null,
           null,
           null,
           null,
           null,
           null,
           null,
           null,
           null,
           null,
           null,
           null,
           null,
           null,
           null
          ],
          "game",
          "http://www.cookservedelicious.com"
         ],
         "1000030"
        ],
        [
         [
          1000040,
          [
           "Single-player"
          ],
          0,
          "DoubleC Games",
          "0",
          "Action, Casual, Indie, Simulation",
          "https://cdn.akamai.steamstatic.com/steam/apps/1000040/header.jpg?t=1627033870",
          "199",
          "Simplified Chinese",
          "细胞战争",
          1,
          "0 .. 20,000",
          [
           false,
           false,
           true
          ],
          0,
          "199",
          "DoubleC Games",
          "2019/03/30",
          "0",
          "这是一款打击感十足的细胞主题游戏！操作简单但活下去却不简单，“你”作为侵入人体的细菌病毒，通过与细胞之间的战斗来获得基因变异点数和进入下一关的资格，每种细菌病毒都有独特的能力和攻击效果，你是否可以破坏五大器官并占领人体呢！？",
          [
           null,
           null,
           null,
           null,
           null,
           null,
           null,
           null,
           null,
           null,
           null,
           null,
           null,
           null,
           null,
           null,
           null,
           22,
           null,
           null,
           null,
           null,
           null,
           null,
           null,
           null,
           null,
           null,
           null,
           null,
           null,
           null,
           null,
           null,
           null,
           null,
           null,
           null,
           null,
           null,
           null,
           null,
           null,
           null,
           null,
           null,
           null,
           null,
           null,
           null,
           null,
           null,
           null,
           null,
           null,
           null,
           null,
           null,
           null,
           null,
           null,
           null,
           null,
           null,
           null,
           null,
           null,
           22,
           null,
           null,
           null,
           null,
           null,
           null,
           null,
           null,
           null,
           null,
           null,
           null,
           null,
           null,
           null,
           null,
           null,
           null,
           null,
           null,
           null,
           null,
           null,
           null,
           null,
           null,
           null,
           null,
           null,
           null,
           null,
           null,
           null,
           null,
           null,
           null,
           null,
           null,
           null,
           null,
           null,
           null,
           null,
           null,
           null,
           null,
           null,
           null,
           null,
           null,
           null,
           null,
           null,
           null,
           null,
           null,
           null,
           null,
           null,
           null,
           null,
           null,
           null,
           null,
           null,
           null,
           null,
           null,
           null,
           null,
           null,
           null,
           null,
           null,
           null,
           null,
           null,
           null,
           null,
           null,
           null,
           null,
           null,
           null,
           null,
           null,
           null,
           null,
           null,
           null,
           null,
           null,
           null,
           null,
           null,
           null,
           null,
           null,
           null,
           null,
           null,
           null,
           null,
           null,
           null,
           null,
           null,
           null,
           null,
           null,
           null,
           null,
           null,
           null,
           null,
           null,
           null,
           null,
           null,
           null,
           null,
           21,
           null,
           null,
           null,
           null,
           null,
           null,
           null,
           null,
           null,
           null,
           null,
           null,
           null,
           null,
           null,
           null,
           null,
           null,
           null,
           null,
           null,
           null,
           null,
           null,
           null,
           null,
           null,
           null,
           null,
           null,
           null,
           null,
           null,
           null,
           null,
           null,
           null,
           null,
           null,
           null,
           null,
           null,
           null,
           null,
           null,
           null,
           null,
           null,
           null,
           null,
           null,
           null,
           null,
           null,
           null,
           null,
           null,
           null,
           null,
           null,
           null,
           null,
           null,
           null,
           null,
           null,
           null,
           null,
           null,
           null,
           null,
           null,
           null,
           null,
           null,
           null,
           null,
           null,
           null,
           null,
           null,
           null,
           null,
           null,
           null,
           null,
           null,
           null,
           null,
           null,
           null,
           null,
           null,
           null,
           null,
           null,
           null,
           null,
           null,
           null,
           null,
           null,
           null,
           null,
           null,
           null,
           null,
           null,
           null,
           null,
           null,
           null,
           null,
           null,
           null,
           null,
           null,
           null,
           null,
           null,
           null,
           null,
           null,
           null,
           null,
           null,
           null,
           null,
           null,
           null,
           null,
           null,
           null,
           null,
           null,
           null,
           null,
           null,
           null,
           null,
           null,
           null,
           null,
           null,
           null,
           null,
           null,
           null,
           20,
           null,
           null,
           null,
           null,
           null,
           null,
           null,
           null,
           null,
           null,
           null,
           null,
           null,
           null,
           null,
           null,
           null,
           null,
           null,
           null,
           null,
           null,
           null,
           null,
           null,
           null,
           null,
           null,
           null,
           null,
           null,
           null,
           null,
           null,
           null,
           null,
           null,
           null,
           null,
           null,
           null,
           null,
           null,
           null,
           null,
           null,
           null,
           null,
           null,
           null,
           null,
           null,
           null,
           null,
           null,
           null,
           null,
           null,
           null,
           null,
           null,
           null,
           null,
           null,
           null,
           null,
           null,
           null,
           null,
           null,
           null,
           null,
           null,
           null,
           null,
           null,
           null,
           null,
           null,
           null,
           null,
           null,
           null,
           null,
           null,
           null,
           null,
           null,
           null,
           null,
           null,
           null,
           null,
           null,
           null,
           null,
           null,
           null,
           null,
           null,
           null,
           null
          ],
          "game",
          ""
         ],
         "1000040"
        ]
       ],
       "datasetInfos": [],
       "dbfsResultPath": null,
       "isJsonSchema": true,
       "metadata": {},
       "overflow": false,
       "plotOptions": {
        "customPlotOptions": {},
        "displayType": "table",
        "pivotAggregation": null,
        "pivotColumns": null,
        "xColumns": null,
        "yColumns": null
       },
       "removedWidgets": [],
       "schema": [
        {
         "metadata": "{}",
         "name": "data",
         "type": "{\"type\":\"struct\",\"fields\":[{\"name\":\"appid\",\"type\":\"long\",\"nullable\":true,\"metadata\":{}},{\"name\":\"categories\",\"type\":{\"type\":\"array\",\"elementType\":\"string\",\"containsNull\":true},\"nullable\":true,\"metadata\":{}},{\"name\":\"ccu\",\"type\":\"long\",\"nullable\":true,\"metadata\":{}},{\"name\":\"developer\",\"type\":\"string\",\"nullable\":true,\"metadata\":{}},{\"name\":\"discount\",\"type\":\"string\",\"nullable\":true,\"metadata\":{}},{\"name\":\"genre\",\"type\":\"string\",\"nullable\":true,\"metadata\":{}},{\"name\":\"header_image\",\"type\":\"string\",\"nullable\":true,\"metadata\":{}},{\"name\":\"initialprice\",\"type\":\"string\",\"nullable\":true,\"metadata\":{}},{\"name\":\"languages\",\"type\":\"string\",\"nullable\":true,\"metadata\":{}},{\"name\":\"name\",\"type\":\"string\",\"nullable\":true,\"metadata\":{}},{\"name\":\"negative\",\"type\":\"long\",\"nullable\":true,\"metadata\":{}},{\"name\":\"owners\",\"type\":\"string\",\"nullable\":true,\"metadata\":{}},{\"name\":\"platforms\",\"type\":{\"type\":\"struct\",\"fields\":[{\"name\":\"linux\",\"type\":\"boolean\",\"nullable\":true,\"metadata\":{}},{\"name\":\"mac\",\"type\":\"boolean\",\"nullable\":true,\"metadata\":{}},{\"name\":\"windows\",\"type\":\"boolean\",\"nullable\":true,\"metadata\":{}}]},\"nullable\":true,\"metadata\":{}},{\"name\":\"positive\",\"type\":\"long\",\"nullable\":true,\"metadata\":{}},{\"name\":\"price\",\"type\":\"string\",\"nullable\":true,\"metadata\":{}},{\"name\":\"publisher\",\"type\":\"string\",\"nullable\":true,\"metadata\":{}},{\"name\":\"release_date\",\"type\":\"string\",\"nullable\":true,\"metadata\":{}},{\"name\":\"required_age\",\"type\":\"string\",\"nullable\":true,\"metadata\":{}},{\"name\":\"short_description\",\"type\":\"string\",\"nullable\":true,\"metadata\":{}},{\"name\":\"tags\",\"type\":{\"type\":\"struct\",\"fields\":[{\"name\":\"1980s\",\"type\":\"long\",\"nullable\":true,\"metadata\":{}},{\"name\":\"1990's\",\"type\":\"long\",\"nullable\":true,\"metadata\":{}},{\"name\":\"2.5D\",\"type\":\"long\",\"nullable\":true,\"metadata\":{}},{\"name\":\"2D\",\"type\":\"long\",\"nullable\":true,\"metadata\":{}},{\"name\":\"2D Fighter\",\"type\":\"long\",\"nullable\":true,\"metadata\":{}},{\"name\":\"2D Platformer\",\"type\":\"long\",\"nullable\":true,\"metadata\":{}},{\"name\":\"360 Video\",\"type\":\"long\",\"nullable\":true,\"metadata\":{}},{\"name\":\"3D\",\"type\":\"long\",\"nullable\":true,\"metadata\":{}},{\"name\":\"3D Fighter\",\"type\":\"long\",\"nullable\":true,\"metadata\":{}},{\"name\":\"3D Platformer\",\"type\":\"long\",\"nullable\":true,\"metadata\":{}},{\"name\":\"3D Vision\",\"type\":\"long\",\"nullable\":true,\"metadata\":{}},{\"name\":\"4 Player Local\",\"type\":\"long\",\"nullable\":true,\"metadata\":{}},{\"name\":\"4X\",\"type\":\"long\",\"nullable\":true,\"metadata\":{}},{\"name\":\"6DOF\",\"type\":\"long\",\"nullable\":true,\"metadata\":{}},{\"name\":\"8-bit Music\",\"type\":\"long\",\"nullable\":true,\"metadata\":{}},{\"name\":\"ATV\",\"type\":\"long\",\"nullable\":true,\"metadata\":{}},{\"name\":\"Abstract\",\"type\":\"long\",\"nullable\":true,\"metadata\":{}},{\"name\":\"Action\",\"type\":\"long\",\"nullable\":true,\"metadata\":{}},{\"name\":\"Action RPG\",\"type\":\"long\",\"nullable\":true,\"metadata\":{}},{\"name\":\"Action RTS\",\"type\":\"long\",\"nullable\":true,\"metadata\":{}},{\"name\":\"Action Roguelike\",\"type\":\"long\",\"nullable\":true,\"metadata\":{}},{\"name\":\"Action-Adventure\",\"type\":\"long\",\"nullable\":true,\"metadata\":{}},{\"name\":\"Addictive\",\"type\":\"long\",\"nullable\":true,\"metadata\":{}},{\"name\":\"Adventure\",\"type\":\"long\",\"nullable\":true,\"metadata\":{}},{\"name\":\"Agriculture\",\"type\":\"long\",\"nullable\":true,\"metadata\":{}},{\"name\":\"Aliens\",\"type\":\"long\",\"nullable\":true,\"metadata\":{}},{\"name\":\"Alternate History\",\"type\":\"long\",\"nullable\":true,\"metadata\":{}},{\"name\":\"Ambient\",\"type\":\"long\",\"nullable\":true,\"metadata\":{}},{\"name\":\"America\",\"type\":\"long\",\"nullable\":true,\"metadata\":{}},{\"name\":\"Animation & Modeling\",\"type\":\"long\",\"nullable\":true,\"metadata\":{}},{\"name\":\"Anime\",\"type\":\"long\",\"nullable\":true,\"metadata\":{}},{\"name\":\"Arcade\",\"type\":\"long\",\"nullable\":true,\"metadata\":{}},{\"name\":\"Archery\",\"type\":\"long\",\"nullable\":true,\"metadata\":{}},{\"name\":\"Arena Shooter\",\"type\":\"long\",\"nullable\":true,\"metadata\":{}},{\"name\":\"Artificial Intelligence\",\"type\":\"long\",\"nullable\":true,\"metadata\":{}},{\"name\":\"Assassin\",\"type\":\"long\",\"nullable\":true,\"metadata\":{}},{\"name\":\"Asymmetric VR\",\"type\":\"long\",\"nullable\":true,\"metadata\":{}},{\"name\":\"Asynchronous Multiplayer\",\"type\":\"long\",\"nullable\":true,\"metadata\":{}},{\"name\":\"Atmospheric\",\"type\":\"long\",\"nullable\":true,\"metadata\":{}},{\"name\":\"Audio Production\",\"type\":\"long\",\"nullable\":true,\"metadata\":{}},{\"name\":\"Auto Battler\",\"type\":\"long\",\"nullable\":true,\"metadata\":{}},{\"name\":\"Automation\",\"type\":\"long\",\"nullable\":true,\"metadata\":{}},{\"name\":\"Automobile Sim\",\"type\":\"long\",\"nullable\":true,\"metadata\":{}},{\"name\":\"BMX\",\"type\":\"long\",\"nullable\":true,\"metadata\":{}},{\"name\":\"Base-Building\",\"type\":\"long\",\"nullable\":true,\"metadata\":{}},{\"name\":\"Baseball\",\"type\":\"long\",\"nullable\":true,\"metadata\":{}},{\"name\":\"Based On A Novel\",\"type\":\"long\",\"nullable\":true,\"metadata\":{}},{\"name\":\"Basketball\",\"type\":\"long\",\"nullable\":true,\"metadata\":{}},{\"name\":\"Battle Royale\",\"type\":\"long\",\"nullable\":true,\"metadata\":{}},{\"name\":\"Beat 'em up\",\"type\":\"long\",\"nullable\":true,\"metadata\":{}},{\"name\":\"Beautiful\",\"type\":\"long\",\"nullable\":true,\"metadata\":{}},{\"name\":\"Benchmark\",\"type\":\"long\",\"nullable\":true,\"metadata\":{}},{\"name\":\"Bikes\",\"type\":\"long\",\"nullable\":true,\"metadata\":{}},{\"name\":\"Blood\",\"type\":\"long\",\"nullable\":true,\"metadata\":{}},{\"name\":\"Board Game\",\"type\":\"long\",\"nullable\":true,\"metadata\":{}},{\"name\":\"Boss Rush\",\"type\":\"long\",\"nullable\":true,\"metadata\":{}},{\"name\":\"Bowling\",\"type\":\"long\",\"nullable\":true,\"metadata\":{}},{\"name\":\"Boxing\",\"type\":\"long\",\"nullable\":true,\"metadata\":{}},{\"name\":\"Building\",\"type\":\"long\",\"nullable\":true,\"metadata\":{}},{\"name\":\"Bullet Hell\",\"type\":\"long\",\"nullable\":true,\"metadata\":{}},{\"name\":\"Bullet Time\",\"type\":\"long\",\"nullable\":true,\"metadata\":{}},{\"name\":\"CRPG\",\"type\":\"long\",\"nullable\":true,\"metadata\":{}},{\"name\":\"Capitalism\",\"type\":\"long\",\"nullable\":true,\"metadata\":{}},{\"name\":\"Card Battler\",\"type\":\"long\",\"nullable\":true,\"metadata\":{}},{\"name\":\"Card Game\",\"type\":\"long\",\"nullable\":true,\"metadata\":{}},{\"name\":\"Cartoon\",\"type\":\"long\",\"nullable\":true,\"metadata\":{}},{\"name\":\"Cartoony\",\"type\":\"long\",\"nullable\":true,\"metadata\":{}},{\"name\":\"Casual\",\"type\":\"long\",\"nullable\":true,\"metadata\":{}},{\"name\":\"Cats\",\"type\":\"long\",\"nullable\":true,\"metadata\":{}},{\"name\":\"Character Action Game\",\"type\":\"long\",\"nullable\":true,\"metadata\":{}},{\"name\":\"Character Customization\",\"type\":\"long\",\"nullable\":true,\"metadata\":{}},{\"name\":\"Chess\",\"type\":\"long\",\"nullable\":true,\"metadata\":{}},{\"name\":\"Choices Matter\",\"type\":\"long\",\"nullable\":true,\"metadata\":{}},{\"name\":\"Choose Your Own Adventure\",\"type\":\"long\",\"nullable\":true,\"metadata\":{}},{\"name\":\"Cinematic\",\"type\":\"long\",\"nullable\":true,\"metadata\":{}},{\"name\":\"City Builder\",\"type\":\"long\",\"nullable\":true,\"metadata\":{}},{\"name\":\"Class-Based\",\"type\":\"long\",\"nullable\":true,\"metadata\":{}},{\"name\":\"Classic\",\"type\":\"long\",\"nullable\":true,\"metadata\":{}},{\"name\":\"Clicker\",\"type\":\"long\",\"nullable\":true,\"metadata\":{}},{\"name\":\"Co-op\",\"type\":\"long\",\"nullable\":true,\"metadata\":{}},{\"name\":\"Co-op Campaign\",\"type\":\"long\",\"nullable\":true,\"metadata\":{}},{\"name\":\"Coding\",\"type\":\"long\",\"nullable\":true,\"metadata\":{}},{\"name\":\"Cold War\",\"type\":\"long\",\"nullable\":true,\"metadata\":{}},{\"name\":\"Collectathon\",\"type\":\"long\",\"nullable\":true,\"metadata\":{}},{\"name\":\"Colony Sim\",\"type\":\"long\",\"nullable\":true,\"metadata\":{}},{\"name\":\"Colorful\",\"type\":\"long\",\"nullable\":true,\"metadata\":{}},{\"name\":\"Combat\",\"type\":\"long\",\"nullable\":true,\"metadata\":{}},{\"name\":\"Combat Racing\",\"type\":\"long\",\"nullable\":true,\"metadata\":{}},{\"name\":\"Comedy\",\"type\":\"long\",\"nullable\":true,\"metadata\":{}},{\"name\":\"Comic Book\",\"type\":\"long\",\"nullable\":true,\"metadata\":{}},{\"name\":\"Competitive\",\"type\":\"long\",\"nullable\":true,\"metadata\":{}},{\"name\":\"Conspiracy\",\"type\":\"long\",\"nullable\":true,\"metadata\":{}},{\"name\":\"Controller\",\"type\":\"long\",\"nullable\":true,\"metadata\":{}},{\"name\":\"Conversation\",\"type\":\"long\",\"nullable\":true,\"metadata\":{}},{\"name\":\"Cooking\",\"type\":\"long\",\"nullable\":true,\"metadata\":{}},{\"name\":\"Cozy\",\"type\":\"long\",\"nullable\":true,\"metadata\":{}},{\"name\":\"Crafting\",\"type\":\"long\",\"nullable\":true,\"metadata\":{}},{\"name\":\"Creature Collector\",\"type\":\"long\",\"nullable\":true,\"metadata\":{}},{\"name\":\"Cricket\",\"type\":\"long\",\"nullable\":true,\"metadata\":{}},{\"name\":\"Crime\",\"type\":\"long\",\"nullable\":true,\"metadata\":{}},{\"name\":\"Crowdfunded\",\"type\":\"long\",\"nullable\":true,\"metadata\":{}},{\"name\":\"Cult Classic\",\"type\":\"long\",\"nullable\":true,\"metadata\":{}},{\"name\":\"Cute\",\"type\":\"long\",\"nullable\":true,\"metadata\":{}},{\"name\":\"Cyberpunk\",\"type\":\"long\",\"nullable\":true,\"metadata\":{}},{\"name\":\"Cycling\",\"type\":\"long\",\"nullable\":true,\"metadata\":{}},{\"name\":\"Dark\",\"type\":\"long\",\"nullable\":true,\"metadata\":{}},{\"name\":\"Dark Comedy\",\"type\":\"long\",\"nullable\":true,\"metadata\":{}},{\"name\":\"Dark Fantasy\",\"type\":\"long\",\"nullable\":true,\"metadata\":{}},{\"name\":\"Dark Humor\",\"type\":\"long\",\"nullable\":true,\"metadata\":{}},{\"name\":\"Dating Sim\",\"type\":\"long\",\"nullable\":true,\"metadata\":{}},{\"name\":\"Deckbuilding\",\"type\":\"long\",\"nullable\":true,\"metadata\":{}},{\"name\":\"Demons\",\"type\":\"long\",\"nullable\":true,\"metadata\":{}},{\"name\":\"Design & Illustration\",\"type\":\"long\",\"nullable\":true,\"metadata\":{}},{\"name\":\"Destruction\",\"type\":\"long\",\"nullable\":true,\"metadata\":{}},{\"name\":\"Detective\",\"type\":\"long\",\"nullable\":true,\"metadata\":{}},{\"name\":\"Difficult\",\"type\":\"long\",\"nullable\":true,\"metadata\":{}},{\"name\":\"Dinosaurs\",\"type\":\"long\",\"nullable\":true,\"metadata\":{}},{\"name\":\"Diplomacy\",\"type\":\"long\",\"nullable\":true,\"metadata\":{}},{\"name\":\"Documentary\",\"type\":\"long\",\"nullable\":true,\"metadata\":{}},{\"name\":\"Dog\",\"type\":\"long\",\"nullable\":true,\"metadata\":{}},{\"name\":\"Dragons\",\"type\":\"long\",\"nullable\":true,\"metadata\":{}},{\"name\":\"Drama\",\"type\":\"long\",\"nullable\":true,\"metadata\":{}},{\"name\":\"Driving\",\"type\":\"long\",\"nullable\":true,\"metadata\":{}},{\"name\":\"Dungeon Crawler\",\"type\":\"long\",\"nullable\":true,\"metadata\":{}},{\"name\":\"Dungeons & Dragons\",\"type\":\"long\",\"nullable\":true,\"metadata\":{}},{\"name\":\"Dynamic Narration\",\"type\":\"long\",\"nullable\":true,\"metadata\":{}},{\"name\":\"Dystopian \",\"type\":\"long\",\"nullable\":true,\"metadata\":{}},{\"name\":\"Early Access\",\"type\":\"long\",\"nullable\":true,\"metadata\":{}},{\"name\":\"Economy\",\"type\":\"long\",\"nullable\":true,\"metadata\":{}},{\"name\":\"Education\",\"type\":\"long\",\"nullable\":true,\"metadata\":{}},{\"name\":\"Electronic\",\"type\":\"long\",\"nullable\":true,\"metadata\":{}},{\"name\":\"Electronic Music\",\"type\":\"long\",\"nullable\":true,\"metadata\":{}},{\"name\":\"Emotional\",\"type\":\"long\",\"nullable\":true,\"metadata\":{}},{\"name\":\"Epic\",\"type\":\"long\",\"nullable\":true,\"metadata\":{}},{\"name\":\"Episodic\",\"type\":\"long\",\"nullable\":true,\"metadata\":{}},{\"name\":\"Escape Room\",\"type\":\"long\",\"nullable\":true,\"metadata\":{}},{\"name\":\"Experience\",\"type\":\"long\",\"nullable\":true,\"metadata\":{}},{\"name\":\"Experimental\",\"type\":\"long\",\"nullable\":true,\"metadata\":{}},{\"name\":\"Exploration\",\"type\":\"long\",\"nullable\":true,\"metadata\":{}},{\"name\":\"FMV\",\"type\":\"long\",\"nullable\":true,\"metadata\":{}},{\"name\":\"FPS\",\"type\":\"long\",\"nullable\":true,\"metadata\":{}},{\"name\":\"Faith\",\"type\":\"long\",\"nullable\":true,\"metadata\":{}},{\"name\":\"Family Friendly\",\"type\":\"long\",\"nullable\":true,\"metadata\":{}},{\"name\":\"Fantasy\",\"type\":\"long\",\"nullable\":true,\"metadata\":{}},{\"name\":\"Farming\",\"type\":\"long\",\"nullable\":true,\"metadata\":{}},{\"name\":\"Farming Sim\",\"type\":\"long\",\"nullable\":true,\"metadata\":{}},{\"name\":\"Fast-Paced\",\"type\":\"long\",\"nullable\":true,\"metadata\":{}},{\"name\":\"Feature Film\",\"type\":\"long\",\"nullable\":true,\"metadata\":{}},{\"name\":\"Female Protagonist\",\"type\":\"long\",\"nullable\":true,\"metadata\":{}},{\"name\":\"Fighting\",\"type\":\"long\",\"nullable\":true,\"metadata\":{}},{\"name\":\"First-Person\",\"type\":\"long\",\"nullable\":true,\"metadata\":{}},{\"name\":\"Fishing\",\"type\":\"long\",\"nullable\":true,\"metadata\":{}},{\"name\":\"Flight\",\"type\":\"long\",\"nullable\":true,\"metadata\":{}},{\"name\":\"Football\",\"type\":\"long\",\"nullable\":true,\"metadata\":{}},{\"name\":\"Foreign\",\"type\":\"long\",\"nullable\":true,\"metadata\":{}},{\"name\":\"Free to Play\",\"type\":\"long\",\"nullable\":true,\"metadata\":{}},{\"name\":\"Funny\",\"type\":\"long\",\"nullable\":true,\"metadata\":{}},{\"name\":\"Futuristic\",\"type\":\"long\",\"nullable\":true,\"metadata\":{}},{\"name\":\"Gambling\",\"type\":\"long\",\"nullable\":true,\"metadata\":{}},{\"name\":\"Game Development\",\"type\":\"long\",\"nullable\":true,\"metadata\":{}},{\"name\":\"GameMaker\",\"type\":\"long\",\"nullable\":true,\"metadata\":{}},{\"name\":\"Games Workshop\",\"type\":\"long\",\"nullable\":true,\"metadata\":{}},{\"name\":\"Gaming\",\"type\":\"long\",\"nullable\":true,\"metadata\":{}},{\"name\":\"God Game\",\"type\":\"long\",\"nullable\":true,\"metadata\":{}},{\"name\":\"Golf\",\"type\":\"long\",\"nullable\":true,\"metadata\":{}},{\"name\":\"Gore\",\"type\":\"long\",\"nullable\":true,\"metadata\":{}},{\"name\":\"Gothic\",\"type\":\"long\",\"nullable\":true,\"metadata\":{}},{\"name\":\"Grand Strategy\",\"type\":\"long\",\"nullable\":true,\"metadata\":{}},{\"name\":\"Great Soundtrack\",\"type\":\"long\",\"nullable\":true,\"metadata\":{}},{\"name\":\"Grid-Based Movement\",\"type\":\"long\",\"nullable\":true,\"metadata\":{}},{\"name\":\"Gun Customization\",\"type\":\"long\",\"nullable\":true,\"metadata\":{}},{\"name\":\"Hack and Slash\",\"type\":\"long\",\"nullable\":true,\"metadata\":{}},{\"name\":\"Hacking\",\"type\":\"long\",\"nullable\":true,\"metadata\":{}},{\"name\":\"Hand-drawn\",\"type\":\"long\",\"nullable\":true,\"metadata\":{}},{\"name\":\"Hardware\",\"type\":\"long\",\"nullable\":true,\"metadata\":{}},{\"name\":\"Heist\",\"type\":\"long\",\"nullable\":true,\"metadata\":{}},{\"name\":\"Hentai\",\"type\":\"long\",\"nullable\":true,\"metadata\":{}},{\"name\":\"Hero Shooter\",\"type\":\"long\",\"nullable\":true,\"metadata\":{}},{\"name\":\"Hex Grid\",\"type\":\"long\",\"nullable\":true,\"metadata\":{}},{\"name\":\"Hidden Object\",\"type\":\"long\",\"nullable\":true,\"metadata\":{}},{\"name\":\"Historical\",\"type\":\"long\",\"nullable\":true,\"metadata\":{}},{\"name\":\"Hockey\",\"type\":\"long\",\"nullable\":true,\"metadata\":{}},{\"name\":\"Horror\",\"type\":\"long\",\"nullable\":true,\"metadata\":{}},{\"name\":\"Horses\",\"type\":\"long\",\"nullable\":true,\"metadata\":{}},{\"name\":\"Hunting\",\"type\":\"long\",\"nullable\":true,\"metadata\":{}},{\"name\":\"Idler\",\"type\":\"long\",\"nullable\":true,\"metadata\":{}},{\"name\":\"Illuminati\",\"type\":\"long\",\"nullable\":true,\"metadata\":{}},{\"name\":\"Immersive\",\"type\":\"long\",\"nullable\":true,\"metadata\":{}},{\"name\":\"Immersive Sim\",\"type\":\"long\",\"nullable\":true,\"metadata\":{}},{\"name\":\"Indie\",\"type\":\"long\",\"nullable\":true,\"metadata\":{}},{\"name\":\"Instrumental Music\",\"type\":\"long\",\"nullable\":true,\"metadata\":{}},{\"name\":\"Intentionally Awkward Controls\",\"type\":\"long\",\"nullable\":true,\"metadata\":{}},{\"name\":\"Interactive Fiction\",\"type\":\"long\",\"nullable\":true,\"metadata\":{}},{\"name\":\"Inventory Management\",\"type\":\"long\",\"nullable\":true,\"metadata\":{}},{\"name\":\"Investigation\",\"type\":\"long\",\"nullable\":true,\"metadata\":{}},{\"name\":\"Isometric\",\"type\":\"long\",\"nullable\":true,\"metadata\":{}},{\"name\":\"JRPG\",\"type\":\"long\",\"nullable\":true,\"metadata\":{}},{\"name\":\"Jet\",\"type\":\"long\",\"nullable\":true,\"metadata\":{}},{\"name\":\"Job Simulator\",\"type\":\"long\",\"nullable\":true,\"metadata\":{}},{\"name\":\"Jump Scare\",\"type\":\"long\",\"nullable\":true,\"metadata\":{}},{\"name\":\"Kickstarter\",\"type\":\"long\",\"nullable\":true,\"metadata\":{}},{\"name\":\"LEGO\",\"type\":\"long\",\"nullable\":true,\"metadata\":{}},{\"name\":\"LGBTQ+\",\"type\":\"long\",\"nullable\":true,\"metadata\":{}},{\"name\":\"Lemmings\",\"type\":\"long\",\"nullable\":true,\"metadata\":{}},{\"name\":\"Level Editor\",\"type\":\"long\",\"nullable\":true,\"metadata\":{}},{\"name\":\"Life Sim\",\"type\":\"long\",\"nullable\":true,\"metadata\":{}},{\"name\":\"Linear\",\"type\":\"long\",\"nullable\":true,\"metadata\":{}},{\"name\":\"Local Co-Op\",\"type\":\"long\",\"nullable\":true,\"metadata\":{}},{\"name\":\"Local Multiplayer\",\"type\":\"long\",\"nullable\":true,\"metadata\":{}},{\"name\":\"Logic\",\"type\":\"long\",\"nullable\":true,\"metadata\":{}},{\"name\":\"Loot\",\"type\":\"long\",\"nullable\":true,\"metadata\":{}},{\"name\":\"Looter Shooter\",\"type\":\"long\",\"nullable\":true,\"metadata\":{}},{\"name\":\"Lore-Rich\",\"type\":\"long\",\"nullable\":true,\"metadata\":{}},{\"name\":\"Lovecraftian\",\"type\":\"long\",\"nullable\":true,\"metadata\":{}},{\"name\":\"MMORPG\",\"type\":\"long\",\"nullable\":true,\"metadata\":{}},{\"name\":\"MOBA\",\"type\":\"long\",\"nullable\":true,\"metadata\":{}},{\"name\":\"Magic\",\"type\":\"long\",\"nullable\":true,\"metadata\":{}},{\"name\":\"Mahjong\",\"type\":\"long\",\"nullable\":true,\"metadata\":{}},{\"name\":\"Management\",\"type\":\"long\",\"nullable\":true,\"metadata\":{}},{\"name\":\"Mars\",\"type\":\"long\",\"nullable\":true,\"metadata\":{}},{\"name\":\"Martial Arts\",\"type\":\"long\",\"nullable\":true,\"metadata\":{}},{\"name\":\"Massively Multiplayer\",\"type\":\"long\",\"nullable\":true,\"metadata\":{}},{\"name\":\"Masterpiece\",\"type\":\"long\",\"nullable\":true,\"metadata\":{}},{\"name\":\"Match 3\",\"type\":\"long\",\"nullable\":true,\"metadata\":{}},{\"name\":\"Mature\",\"type\":\"long\",\"nullable\":true,\"metadata\":{}},{\"name\":\"Mechs\",\"type\":\"long\",\"nullable\":true,\"metadata\":{}},{\"name\":\"Medical Sim\",\"type\":\"long\",\"nullable\":true,\"metadata\":{}},{\"name\":\"Medieval\",\"type\":\"long\",\"nullable\":true,\"metadata\":{}},{\"name\":\"Memes\",\"type\":\"long\",\"nullable\":true,\"metadata\":{}},{\"name\":\"Metroidvania\",\"type\":\"long\",\"nullable\":true,\"metadata\":{}},{\"name\":\"Military\",\"type\":\"long\",\"nullable\":true,\"metadata\":{}},{\"name\":\"Mini Golf\",\"type\":\"long\",\"nullable\":true,\"metadata\":{}},{\"name\":\"Minigames\",\"type\":\"long\",\"nullable\":true,\"metadata\":{}},{\"name\":\"Minimalist\",\"type\":\"long\",\"nullable\":true,\"metadata\":{}},{\"name\":\"Mining\",\"type\":\"long\",\"nullable\":true,\"metadata\":{}},{\"name\":\"Mod\",\"type\":\"long\",\"nullable\":true,\"metadata\":{}},{\"name\":\"Moddable\",\"type\":\"long\",\"nullable\":true,\"metadata\":{}},{\"name\":\"Modern\",\"type\":\"long\",\"nullable\":true,\"metadata\":{}},{\"name\":\"Motocross\",\"type\":\"long\",\"nullable\":true,\"metadata\":{}},{\"name\":\"Motorbike\",\"type\":\"long\",\"nullable\":true,\"metadata\":{}},{\"name\":\"Mouse only\",\"type\":\"long\",\"nullable\":true,\"metadata\":{}},{\"name\":\"Movie\",\"type\":\"long\",\"nullable\":true,\"metadata\":{}},{\"name\":\"Multiplayer\",\"type\":\"long\",\"nullable\":true,\"metadata\":{}},{\"name\":\"Multiple Endings\",\"type\":\"long\",\"nullable\":true,\"metadata\":{}},{\"name\":\"Music\",\"type\":\"long\",\"nullable\":true,\"metadata\":{}},{\"name\":\"Music-Based Procedural Generation\",\"type\":\"long\",\"nullable\":true,\"metadata\":{}},{\"name\":\"Musou\",\"type\":\"long\",\"nullable\":true,\"metadata\":{}},{\"name\":\"Mystery\",\"type\":\"long\",\"nullable\":true,\"metadata\":{}},{\"name\":\"Mystery Dungeon\",\"type\":\"long\",\"nullable\":true,\"metadata\":{}},{\"name\":\"Mythology\",\"type\":\"long\",\"nullable\":true,\"metadata\":{}},{\"name\":\"NSFW\",\"type\":\"long\",\"nullable\":true,\"metadata\":{}},{\"name\":\"Narration\",\"type\":\"long\",\"nullable\":true,\"metadata\":{}},{\"name\":\"Narrative\",\"type\":\"long\",\"nullable\":true,\"metadata\":{}},{\"name\":\"Nature\",\"type\":\"long\",\"nullable\":true,\"metadata\":{}},{\"name\":\"Naval\",\"type\":\"long\",\"nullable\":true,\"metadata\":{}},{\"name\":\"Naval Combat\",\"type\":\"long\",\"nullable\":true,\"metadata\":{}},{\"name\":\"Ninja\",\"type\":\"long\",\"nullable\":true,\"metadata\":{}},{\"name\":\"Noir\",\"type\":\"long\",\"nullable\":true,\"metadata\":{}},{\"name\":\"Nonlinear\",\"type\":\"long\",\"nullable\":true,\"metadata\":{}},{\"name\":\"Nostalgia\",\"type\":\"long\",\"nullable\":true,\"metadata\":{}},{\"name\":\"Nudity\",\"type\":\"long\",\"nullable\":true,\"metadata\":{}},{\"name\":\"Offroad\",\"type\":\"long\",\"nullable\":true,\"metadata\":{}},{\"name\":\"Old School\",\"type\":\"long\",\"nullable\":true,\"metadata\":{}},{\"name\":\"On-Rails Shooter\",\"type\":\"long\",\"nullable\":true,\"metadata\":{}},{\"name\":\"Online Co-Op\",\"type\":\"long\",\"nullable\":true,\"metadata\":{}},{\"name\":\"Open World\",\"type\":\"long\",\"nullable\":true,\"metadata\":{}},{\"name\":\"Open World Survival Craft\",\"type\":\"long\",\"nullable\":true,\"metadata\":{}},{\"name\":\"Otome\",\"type\":\"long\",\"nullable\":true,\"metadata\":{}},{\"name\":\"Outbreak Sim\",\"type\":\"long\",\"nullable\":true,\"metadata\":{}},{\"name\":\"Parkour\",\"type\":\"long\",\"nullable\":true,\"metadata\":{}},{\"name\":\"Parody \",\"type\":\"long\",\"nullable\":true,\"metadata\":{}},{\"name\":\"Party\",\"type\":\"long\",\"nullable\":true,\"metadata\":{}},{\"name\":\"Party Game\",\"type\":\"long\",\"nullable\":true,\"metadata\":{}},{\"name\":\"Party-Based RPG\",\"type\":\"long\",\"nullable\":true,\"metadata\":{}},{\"name\":\"Perma Death\",\"type\":\"long\",\"nullable\":true,\"metadata\":{}},{\"name\":\"Philosophical\",\"type\":\"long\",\"nullable\":true,\"metadata\":{}},{\"name\":\"Photo Editing\",\"type\":\"long\",\"nullable\":true,\"metadata\":{}},{\"name\":\"Physics\",\"type\":\"long\",\"nullable\":true,\"metadata\":{}},{\"name\":\"Pinball\",\"type\":\"long\",\"nullable\":true,\"metadata\":{}},{\"name\":\"Pirates\",\"type\":\"long\",\"nullable\":true,\"metadata\":{}},{\"name\":\"Pixel Graphics\",\"type\":\"long\",\"nullable\":true,\"metadata\":{}},{\"name\":\"Platformer\",\"type\":\"long\",\"nullable\":true,\"metadata\":{}},{\"name\":\"Point & Click\",\"type\":\"long\",\"nullable\":true,\"metadata\":{}},{\"name\":\"Political\",\"type\":\"long\",\"nullable\":true,\"metadata\":{}},{\"name\":\"Political Sim\",\"type\":\"long\",\"nullable\":true,\"metadata\":{}},{\"name\":\"Politics\",\"type\":\"long\",\"nullable\":true,\"metadata\":{}},{\"name\":\"Pool\",\"type\":\"long\",\"nullable\":true,\"metadata\":{}},{\"name\":\"Post-apocalyptic\",\"type\":\"long\",\"nullable\":true,\"metadata\":{}},{\"name\":\"Precision Platformer\",\"type\":\"long\",\"nullable\":true,\"metadata\":{}},{\"name\":\"Procedural Generation\",\"type\":\"long\",\"nullable\":true,\"metadata\":{}},{\"name\":\"Programming\",\"type\":\"long\",\"nullable\":true,\"metadata\":{}},{\"name\":\"Psychedelic\",\"type\":\"long\",\"nullable\":true,\"metadata\":{}},{\"name\":\"Psychological\",\"type\":\"long\",\"nullable\":true,\"metadata\":{}},{\"name\":\"Psychological Horror\",\"type\":\"long\",\"nullable\":true,\"metadata\":{}},{\"name\":\"Puzzle\",\"type\":\"long\",\"nullable\":true,\"metadata\":{}},{\"name\":\"Puzzle-Platformer\",\"type\":\"long\",\"nullable\":true,\"metadata\":{}},{\"name\":\"PvE\",\"type\":\"long\",\"nullable\":true,\"metadata\":{}},{\"name\":\"PvP\",\"type\":\"long\",\"nullable\":true,\"metadata\":{}},{\"name\":\"Quick-Time Events\",\"type\":\"long\",\"nullable\":true,\"metadata\":{}},{\"name\":\"RPG\",\"type\":\"long\",\"nullable\":true,\"metadata\":{}},{\"name\":\"RPGMaker\",\"type\":\"long\",\"nullable\":true,\"metadata\":{}},{\"name\":\"RTS\",\"type\":\"long\",\"nullable\":true,\"metadata\":{}},{\"name\":\"Racing\",\"type\":\"long\",\"nullable\":true,\"metadata\":{}},{\"name\":\"Real Time Tactics\",\"type\":\"long\",\"nullable\":true,\"metadata\":{}},{\"name\":\"Real-Time\",\"type\":\"long\",\"nullable\":true,\"metadata\":{}},{\"name\":\"Real-Time with Pause\",\"type\":\"long\",\"nullable\":true,\"metadata\":{}},{\"name\":\"Realistic\",\"type\":\"long\",\"nullable\":true,\"metadata\":{}},{\"name\":\"Reboot\",\"type\":\"long\",\"nullable\":true,\"metadata\":{}},{\"name\":\"Relaxing\",\"type\":\"long\",\"nullable\":true,\"metadata\":{}},{\"name\":\"Remake\",\"type\":\"long\",\"nullable\":true,\"metadata\":{}},{\"name\":\"Replay Value\",\"type\":\"long\",\"nullable\":true,\"metadata\":{}},{\"name\":\"Resource Management\",\"type\":\"long\",\"nullable\":true,\"metadata\":{}},{\"name\":\"Retro\",\"type\":\"long\",\"nullable\":true,\"metadata\":{}},{\"name\":\"Rhythm\",\"type\":\"long\",\"nullable\":true,\"metadata\":{}},{\"name\":\"Robots\",\"type\":\"long\",\"nullable\":true,\"metadata\":{}},{\"name\":\"Rock Music\",\"type\":\"long\",\"nullable\":true,\"metadata\":{}},{\"name\":\"Rogue-like\",\"type\":\"long\",\"nullable\":true,\"metadata\":{}},{\"name\":\"Rogue-lite\",\"type\":\"long\",\"nullable\":true,\"metadata\":{}},{\"name\":\"Roguelike Deckbuilder\",\"type\":\"long\",\"nullable\":true,\"metadata\":{}},{\"name\":\"Roguevania\",\"type\":\"long\",\"nullable\":true,\"metadata\":{}},{\"name\":\"Romance\",\"type\":\"long\",\"nullable\":true,\"metadata\":{}},{\"name\":\"Rome\",\"type\":\"long\",\"nullable\":true,\"metadata\":{}},{\"name\":\"Rugby\",\"type\":\"long\",\"nullable\":true,\"metadata\":{}},{\"name\":\"Runner\",\"type\":\"long\",\"nullable\":true,\"metadata\":{}},{\"name\":\"Sailing\",\"type\":\"long\",\"nullable\":true,\"metadata\":{}},{\"name\":\"Sandbox\",\"type\":\"long\",\"nullable\":true,\"metadata\":{}},{\"name\":\"Satire\",\"type\":\"long\",\"nullable\":true,\"metadata\":{}},{\"name\":\"Sci-fi\",\"type\":\"long\",\"nullable\":true,\"metadata\":{}},{\"name\":\"Science\",\"type\":\"long\",\"nullable\":true,\"metadata\":{}},{\"name\":\"Score Attack\",\"type\":\"long\",\"nullable\":true,\"metadata\":{}},{\"name\":\"Sequel\",\"type\":\"long\",\"nullable\":true,\"metadata\":{}},{\"name\":\"Sexual Content\",\"type\":\"long\",\"nullable\":true,\"metadata\":{}},{\"name\":\"Shoot 'Em Up\",\"type\":\"long\",\"nullable\":true,\"metadata\":{}},{\"name\":\"Shooter\",\"type\":\"long\",\"nullable\":true,\"metadata\":{}},{\"name\":\"Shop Keeper\",\"type\":\"long\",\"nullable\":true,\"metadata\":{}},{\"name\":\"Short\",\"type\":\"long\",\"nullable\":true,\"metadata\":{}},{\"name\":\"Side Scroller\",\"type\":\"long\",\"nullable\":true,\"metadata\":{}},{\"name\":\"Silent Protagonist\",\"type\":\"long\",\"nullable\":true,\"metadata\":{}},{\"name\":\"Simulation\",\"type\":\"long\",\"nullable\":true,\"metadata\":{}},{\"name\":\"Singleplayer\",\"type\":\"long\",\"nullable\":true,\"metadata\":{}},{\"name\":\"Skateboarding\",\"type\":\"long\",\"nullable\":true,\"metadata\":{}},{\"name\":\"Skating\",\"type\":\"long\",\"nullable\":true,\"metadata\":{}},{\"name\":\"Skiing\",\"type\":\"long\",\"nullable\":true,\"metadata\":{}},{\"name\":\"Sniper\",\"type\":\"long\",\"nullable\":true,\"metadata\":{}},{\"name\":\"Snooker\",\"type\":\"long\",\"nullable\":true,\"metadata\":{}},{\"name\":\"Snow\",\"type\":\"long\",\"nullable\":true,\"metadata\":{}},{\"name\":\"Snowboarding\",\"type\":\"long\",\"nullable\":true,\"metadata\":{}},{\"name\":\"Soccer\",\"type\":\"long\",\"nullable\":true,\"metadata\":{}},{\"name\":\"Social Deduction\",\"type\":\"long\",\"nullable\":true,\"metadata\":{}},{\"name\":\"Software\",\"type\":\"long\",\"nullable\":true,\"metadata\":{}},{\"name\":\"Software Training\",\"type\":\"long\",\"nullable\":true,\"metadata\":{}},{\"name\":\"Sokoban\",\"type\":\"long\",\"nullable\":true,\"metadata\":{}},{\"name\":\"Solitaire\",\"type\":\"long\",\"nullable\":true,\"metadata\":{}},{\"name\":\"Souls-like\",\"type\":\"long\",\"nullable\":true,\"metadata\":{}},{\"name\":\"Soundtrack\",\"type\":\"long\",\"nullable\":true,\"metadata\":{}},{\"name\":\"Space\",\"type\":\"long\",\"nullable\":true,\"metadata\":{}},{\"name\":\"Space Sim\",\"type\":\"long\",\"nullable\":true,\"metadata\":{}},{\"name\":\"Spaceships\",\"type\":\"long\",\"nullable\":true,\"metadata\":{}},{\"name\":\"Spectacle fighter\",\"type\":\"long\",\"nullable\":true,\"metadata\":{}},{\"name\":\"Spelling\",\"type\":\"long\",\"nullable\":true,\"metadata\":{}},{\"name\":\"Split Screen\",\"type\":\"long\",\"nullable\":true,\"metadata\":{}},{\"name\":\"Sports\",\"type\":\"long\",\"nullable\":true,\"metadata\":{}},{\"name\":\"Stealth\",\"type\":\"long\",\"nullable\":true,\"metadata\":{}},{\"name\":\"Steam Machine\",\"type\":\"long\",\"nullable\":true,\"metadata\":{}},{\"name\":\"Steampunk\",\"type\":\"long\",\"nullable\":true,\"metadata\":{}},{\"name\":\"Story Rich\",\"type\":\"long\",\"nullable\":true,\"metadata\":{}},{\"name\":\"Strategy\",\"type\":\"long\",\"nullable\":true,\"metadata\":{}},{\"name\":\"Strategy RPG\",\"type\":\"long\",\"nullable\":true,\"metadata\":{}},{\"name\":\"Stylized\",\"type\":\"long\",\"nullable\":true,\"metadata\":{}},{\"name\":\"Submarine\",\"type\":\"long\",\"nullable\":true,\"metadata\":{}},{\"name\":\"Superhero\",\"type\":\"long\",\"nullable\":true,\"metadata\":{}},{\"name\":\"Supernatural\",\"type\":\"long\",\"nullable\":true,\"metadata\":{}},{\"name\":\"Surreal\",\"type\":\"long\",\"nullable\":true,\"metadata\":{}},{\"name\":\"Survival\",\"type\":\"long\",\"nullable\":true,\"metadata\":{}},{\"name\":\"Survival Horror\",\"type\":\"long\",\"nullable\":true,\"metadata\":{}},{\"name\":\"Swordplay\",\"type\":\"long\",\"nullable\":true,\"metadata\":{}},{\"name\":\"Tabletop\",\"type\":\"long\",\"nullable\":true,\"metadata\":{}},{\"name\":\"Tactical\",\"type\":\"long\",\"nullable\":true,\"metadata\":{}},{\"name\":\"Tactical RPG\",\"type\":\"long\",\"nullable\":true,\"metadata\":{}},{\"name\":\"Tanks\",\"type\":\"long\",\"nullable\":true,\"metadata\":{}},{\"name\":\"Team-Based\",\"type\":\"long\",\"nullable\":true,\"metadata\":{}},{\"name\":\"Tennis\",\"type\":\"long\",\"nullable\":true,\"metadata\":{}},{\"name\":\"Text-Based\",\"type\":\"long\",\"nullable\":true,\"metadata\":{}},{\"name\":\"Third Person\",\"type\":\"long\",\"nullable\":true,\"metadata\":{}},{\"name\":\"Third-Person Shooter\",\"type\":\"long\",\"nullable\":true,\"metadata\":{}},{\"name\":\"Thriller\",\"type\":\"long\",\"nullable\":true,\"metadata\":{}},{\"name\":\"Tile-Matching\",\"type\":\"long\",\"nullable\":true,\"metadata\":{}},{\"name\":\"Time Attack\",\"type\":\"long\",\"nullable\":true,\"metadata\":{}},{\"name\":\"Time Management\",\"type\":\"long\",\"nullable\":true,\"metadata\":{}},{\"name\":\"Time Manipulation\",\"type\":\"long\",\"nullable\":true,\"metadata\":{}},{\"name\":\"Time Travel\",\"type\":\"long\",\"nullable\":true,\"metadata\":{}},{\"name\":\"Top-Down\",\"type\":\"long\",\"nullable\":true,\"metadata\":{}},{\"name\":\"Top-Down Shooter\",\"type\":\"long\",\"nullable\":true,\"metadata\":{}},{\"name\":\"Touch-Friendly\",\"type\":\"long\",\"nullable\":true,\"metadata\":{}},{\"name\":\"Tower Defense\",\"type\":\"long\",\"nullable\":true,\"metadata\":{}},{\"name\":\"TrackIR\",\"type\":\"long\",\"nullable\":true,\"metadata\":{}},{\"name\":\"Trading\",\"type\":\"long\",\"nullable\":true,\"metadata\":{}},{\"name\":\"Trading Card Game\",\"type\":\"long\",\"nullable\":true,\"metadata\":{}},{\"name\":\"Traditional Roguelike\",\"type\":\"long\",\"nullable\":true,\"metadata\":{}},{\"name\":\"Trains\",\"type\":\"long\",\"nullable\":true,\"metadata\":{}},{\"name\":\"Transhumanism\",\"type\":\"long\",\"nullable\":true,\"metadata\":{}},{\"name\":\"Transportation\",\"type\":\"long\",\"nullable\":true,\"metadata\":{}},{\"name\":\"Trivia\",\"type\":\"long\",\"nullable\":true,\"metadata\":{}},{\"name\":\"Turn-Based\",\"type\":\"long\",\"nullable\":true,\"metadata\":{}},{\"name\":\"Turn-Based Combat\",\"type\":\"long\",\"nullable\":true,\"metadata\":{}},{\"name\":\"Turn-Based Strategy\",\"type\":\"long\",\"nullable\":true,\"metadata\":{}},{\"name\":\"Turn-Based Tactics\",\"type\":\"long\",\"nullable\":true,\"metadata\":{}},{\"name\":\"Tutorial\",\"type\":\"long\",\"nullable\":true,\"metadata\":{}},{\"name\":\"Twin Stick Shooter\",\"type\":\"long\",\"nullable\":true,\"metadata\":{}},{\"name\":\"Typing\",\"type\":\"long\",\"nullable\":true,\"metadata\":{}},{\"name\":\"Underground\",\"type\":\"long\",\"nullable\":true,\"metadata\":{}},{\"name\":\"Underwater\",\"type\":\"long\",\"nullable\":true,\"metadata\":{}},{\"name\":\"Unforgiving\",\"type\":\"long\",\"nullable\":true,\"metadata\":{}},{\"name\":\"Utilities\",\"type\":\"long\",\"nullable\":true,\"metadata\":{}},{\"name\":\"VR\",\"type\":\"long\",\"nullable\":true,\"metadata\":{}},{\"name\":\"VR Only\",\"type\":\"long\",\"nullable\":true,\"metadata\":{}},{\"name\":\"Vampire\",\"type\":\"long\",\"nullable\":true,\"metadata\":{}},{\"name\":\"Vehicular Combat\",\"type\":\"long\",\"nullable\":true,\"metadata\":{}},{\"name\":\"Video Production\",\"type\":\"long\",\"nullable\":true,\"metadata\":{}},{\"name\":\"Vikings\",\"type\":\"long\",\"nullable\":true,\"metadata\":{}},{\"name\":\"Villain Protagonist\",\"type\":\"long\",\"nullable\":true,\"metadata\":{}},{\"name\":\"Violent\",\"type\":\"long\",\"nullable\":true,\"metadata\":{}},{\"name\":\"Visual Novel\",\"type\":\"long\",\"nullable\":true,\"metadata\":{}},{\"name\":\"Voice Control\",\"type\":\"long\",\"nullable\":true,\"metadata\":{}},{\"name\":\"Volleyball\",\"type\":\"long\",\"nullable\":true,\"metadata\":{}},{\"name\":\"Voxel\",\"type\":\"long\",\"nullable\":true,\"metadata\":{}},{\"name\":\"Walking Simulator\",\"type\":\"long\",\"nullable\":true,\"metadata\":{}},{\"name\":\"War\",\"type\":\"long\",\"nullable\":true,\"metadata\":{}},{\"name\":\"Wargame\",\"type\":\"long\",\"nullable\":true,\"metadata\":{}},{\"name\":\"Warhammer 40K\",\"type\":\"long\",\"nullable\":true,\"metadata\":{}},{\"name\":\"Web Publishing\",\"type\":\"long\",\"nullable\":true,\"metadata\":{}},{\"name\":\"Well-Written\",\"type\":\"long\",\"nullable\":true,\"metadata\":{}},{\"name\":\"Werewolves\",\"type\":\"long\",\"nullable\":true,\"metadata\":{}},{\"name\":\"Western\",\"type\":\"long\",\"nullable\":true,\"metadata\":{}},{\"name\":\"Wholesome\",\"type\":\"long\",\"nullable\":true,\"metadata\":{}},{\"name\":\"Word Game\",\"type\":\"long\",\"nullable\":true,\"metadata\":{}},{\"name\":\"World War I\",\"type\":\"long\",\"nullable\":true,\"metadata\":{}},{\"name\":\"World War II\",\"type\":\"long\",\"nullable\":true,\"metadata\":{}},{\"name\":\"Wrestling\",\"type\":\"long\",\"nullable\":true,\"metadata\":{}},{\"name\":\"Zombies\",\"type\":\"long\",\"nullable\":true,\"metadata\":{}},{\"name\":\"e-sports\",\"type\":\"long\",\"nullable\":true,\"metadata\":{}}]},\"nullable\":true,\"metadata\":{}},{\"name\":\"type\",\"type\":\"string\",\"nullable\":true,\"metadata\":{}},{\"name\":\"website\",\"type\":\"string\",\"nullable\":true,\"metadata\":{}}]}"
        },
        {
         "metadata": "{}",
         "name": "id",
         "type": "\"string\""
        }
       ],
       "type": "table"
      }
     },
     "output_type": "display_data"
    },
    {
     "output_type": "stream",
     "name": "stdout",
     "output_type": "stream",
     "text": [
      "Nombre total de jeux : 55691\n"
     ]
    }
   ],
   "source": [
    "# Afficher le schéma\n",
    "df.printSchema()\n",
    "\n",
    "# Afficher quelques lignes\n",
    "display(df.limit(5))\n",
    "\n",
    "# Afficher le nombre total de jeux\n",
    "print(\"Nombre total de jeux :\", df.count())"
   ]
  },
  {
   "cell_type": "markdown",
   "metadata": {
    "application/vnd.databricks.v1+cell": {
     "cellMetadata": {
      "byteLimit": 2048000,
      "rowLimit": 10000
     },
     "inputWidgets": {},
     "nuid": "3581b5bf-3148-44f8-ac22-2fe01b486177",
     "showTitle": false,
     "tableResultSettingsMap": {},
     "title": ""
    }
   },
   "source": [
    "## Which publisher hast released the most games on Steam ?"
   ]
  },
  {
   "cell_type": "code",
   "execution_count": 0,
   "metadata": {
    "application/vnd.databricks.v1+cell": {
     "cellMetadata": {
      "byteLimit": 2048000,
      "rowLimit": 10000
     },
     "inputWidgets": {},
     "nuid": "f19b70ba-eda6-4a40-a2e5-0c5c3685f619",
     "showTitle": false,
     "tableResultSettingsMap": {},
     "title": ""
    }
   },
   "outputs": [
    {
     "output_type": "stream",
     "name": "stdout",
     "output_type": "stream",
     "text": [
      "+--------------+-----+\n|     publisher|count|\n+--------------+-----+\n|Big Fish Games|  422|\n|        8floor|  202|\n|          SEGA|  165|\n|Strategy First|  151|\n|   Square Enix|  141|\n+--------------+-----+\nonly showing top 5 rows\n\n"
     ]
    }
   ],
   "source": [
    "# nombre de jeux par éditeur classé par ordre decroissant\n",
    "df.select('data.publisher') \\\n",
    "  .groupby('publisher') \\\n",
    "  .count() \\\n",
    "  .orderBy(F.col('count').desc()) \\\n",
    "  .show(5)\n"
   ]
  },
  {
   "cell_type": "markdown",
   "metadata": {
    "application/vnd.databricks.v1+cell": {
     "cellMetadata": {
      "byteLimit": 2048000,
      "rowLimit": 10000
     },
     "inputWidgets": {},
     "nuid": "3779aad7-b823-474c-bb7d-5fefdf0a6fa0",
     "showTitle": false,
     "tableResultSettingsMap": {},
     "title": ""
    }
   },
   "source": [
    "## What are the best rated games?"
   ]
  },
  {
   "cell_type": "markdown",
   "metadata": {
    "application/vnd.databricks.v1+cell": {
     "cellMetadata": {
      "byteLimit": 2048000,
      "rowLimit": 10000
     },
     "inputWidgets": {},
     "nuid": "c4b9415c-d514-4477-b836-6b4c943031e2",
     "showTitle": false,
     "tableResultSettingsMap": {},
     "title": ""
    }
   },
   "source": [
    "A la vue des différentes colonnes, il y a plusieurs manière d'interpréter la question. Voici deux approches différentes :"
   ]
  },
  {
   "cell_type": "code",
   "execution_count": 0,
   "metadata": {
    "application/vnd.databricks.v1+cell": {
     "cellMetadata": {
      "byteLimit": 2048000,
      "rowLimit": 10000
     },
     "inputWidgets": {},
     "nuid": "6441c3e3-afe9-4f53-8b50-817d3017d4ab",
     "showTitle": false,
     "tableResultSettingsMap": {},
     "title": ""
    }
   },
   "outputs": [
    {
     "output_type": "stream",
     "name": "stdout",
     "output_type": "stream",
     "text": [
      "+---------------------+--------+--------+-------------+\n|name                 |positive|negative|ratio_positif|\n+---------------------+--------+--------+-------------+\n|GUIDE                |2       |0       |100.0        |\n|Rotund Rebound       |5       |0       |100.0        |\n|Grab Lab             |9       |0       |100.0        |\n|Next Stop 3          |17      |0       |100.0        |\n|Cube Defender        |6       |0       |100.0        |\n|Fist Of Heaven & Hell|7       |0       |100.0        |\n|Diamonds             |4       |0       |100.0        |\n|Twisting Mower       |1       |0       |100.0        |\n|The Demon Crystal    |11      |0       |100.0        |\n|Kill Tiger           |1       |0       |100.0        |\n+---------------------+--------+--------+-------------+\nonly showing top 10 rows\n\n"
     ]
    }
   ],
   "source": [
    "# meilleur jeux selon ratio avis positifs/négatifs :\n",
    "df.select('data.name', 'data.positive', 'data.negative')\\\n",
    "  .withColumn('ratio_positif', (F.col('positive') / (F.col('positive') + F.col('negative')) * 100))\\\n",
    "  .orderBy(F.col('ratio_positif').desc())\\\n",
    "  .show(10, False)"
   ]
  },
  {
   "cell_type": "markdown",
   "metadata": {
    "application/vnd.databricks.v1+cell": {
     "cellMetadata": {
      "byteLimit": 2048000,
      "rowLimit": 10000
     },
     "inputWidgets": {},
     "nuid": "d079ef9b-c568-49f0-8795-eb17d5d06ec1",
     "showTitle": false,
     "tableResultSettingsMap": {},
     "title": ""
    }
   },
   "source": [
    "Pas très parlant car un jeu avec 1 avis positif et 0 négatif peut être un jeu avec un ratio positif de 100%. La deuxième approche sera donc de classer les jeux par le nombre d'avis positifs"
   ]
  },
  {
   "cell_type": "code",
   "execution_count": 0,
   "metadata": {
    "application/vnd.databricks.v1+cell": {
     "cellMetadata": {
      "byteLimit": 2048000,
      "rowLimit": 10000
     },
     "inputWidgets": {},
     "nuid": "6232777a-0d25-4cee-8fef-76ca21c4654d",
     "showTitle": false,
     "tableResultSettingsMap": {},
     "title": ""
    }
   },
   "outputs": [
    {
     "output_type": "stream",
     "name": "stdout",
     "output_type": "stream",
     "text": [
      "+--------------------------------+--------+\n|name                            |positive|\n+--------------------------------+--------+\n|Counter-Strike: Global Offensive|5943345 |\n|Dota 2                          |1534895 |\n|Grand Theft Auto V              |1229265 |\n|PUBG: BATTLEGROUNDS             |1185361 |\n|Terraria                        |1014711 |\n|Tom Clancy's Rainbow Six Siege  |942910  |\n|Garry's Mod                     |861240  |\n|Team Fortress 2                 |846407  |\n|Rust                            |732513  |\n|Left 4 Dead 2                   |643836  |\n+--------------------------------+--------+\nonly showing top 10 rows\n\n"
     ]
    }
   ],
   "source": [
    "# Jeux classé par volume total d'avis positifs (popularité)\n",
    "df.select('data.name', 'data.positive')\\\n",
    "  .orderBy(F.col('positive').desc())\\\n",
    "  .show(10, False)"
   ]
  },
  {
   "cell_type": "markdown",
   "metadata": {
    "application/vnd.databricks.v1+cell": {
     "cellMetadata": {
      "byteLimit": 2048000,
      "rowLimit": 10000
     },
     "inputWidgets": {},
     "nuid": "7e786a31-5ec7-4ed6-9350-cca3ee1e7d35",
     "showTitle": false,
     "tableResultSettingsMap": {},
     "title": ""
    }
   },
   "source": [
    "## Are there years with more releases?"
   ]
  },
  {
   "cell_type": "code",
   "execution_count": 0,
   "metadata": {
    "application/vnd.databricks.v1+cell": {
     "cellMetadata": {
      "byteLimit": 2048000,
      "rowLimit": 10000
     },
     "inputWidgets": {},
     "nuid": "7ef684d5-f019-4215-9051-46cfcf7a7658",
     "showTitle": false,
     "tableResultSettingsMap": {},
     "title": ""
    }
   },
   "outputs": [
    {
     "output_type": "stream",
     "name": "stdout",
     "output_type": "stream",
     "text": [
      "+----+-----+\n|year|count|\n+----+-----+\n|2021| 8823|\n|2020| 8305|\n|2018| 7678|\n|2022| 7455|\n|2019| 6968|\n|2017| 6017|\n|2016| 4185|\n|2015| 2576|\n|2014| 1557|\n|2013|  471|\n|2012|  345|\n|2009|  311|\n|2010|  288|\n|2011|  267|\n|2008|  159|\n|    |   99|\n|2007|   98|\n|2006|   61|\n|2005|    6|\n|2004|    6|\n+----+-----+\nonly showing top 20 rows\n\n"
     ]
    }
   ],
   "source": [
    "# Nombre de jeux sortis par années\n",
    "df.select(F.substring('data.release_date', 1, 4).alias('year'))\\\n",
    "  .groupBy('year')\\\n",
    "  .count()\\\n",
    "  .orderBy(F.col('count').desc())\\\n",
    "  .show()"
   ]
  },
  {
   "cell_type": "markdown",
   "metadata": {
    "application/vnd.databricks.v1+cell": {
     "cellMetadata": {
      "byteLimit": 2048000,
      "rowLimit": 10000
     },
     "inputWidgets": {},
     "nuid": "6797fa67-1524-4836-9d8b-916775772bfe",
     "showTitle": false,
     "tableResultSettingsMap": {},
     "title": ""
    }
   },
   "source": [
    "Il y a une tendance générale à la hausse avec une forte croissance du nombre de sorties entre 2013 (471 jeux) et 2021 (8823 jeux)et une augmentation particulièrement marquée après 2014. \n",
    "\n",
    "A noter : \n",
    "- Il y a 99 jeux sans date de sortie (\" \")\n",
    "- Les données commencent en 2004 avec seulement 6 jeux"
   ]
  },
  {
   "cell_type": "markdown",
   "metadata": {
    "application/vnd.databricks.v1+cell": {
     "cellMetadata": {
      "byteLimit": 2048000,
      "rowLimit": 10000
     },
     "inputWidgets": {},
     "nuid": "81f319b1-a247-478e-87a7-65f5b47cc203",
     "showTitle": false,
     "tableResultSettingsMap": {},
     "title": ""
    }
   },
   "source": [
    "## How are the prizes distributed?"
   ]
  },
  {
   "cell_type": "markdown",
   "metadata": {
    "application/vnd.databricks.v1+cell": {
     "cellMetadata": {
      "byteLimit": 2048000,
      "rowLimit": 10000
     },
     "inputWidgets": {},
     "nuid": "ec04bdb7-20d6-4cad-b4eb-16acb9876edc",
     "showTitle": false,
     "tableResultSettingsMap": {},
     "title": ""
    }
   },
   "source": [
    "Commencons par regarder le prix moyen. les prix sont en cents donc je divise par 100 pour ramener en dollars."
   ]
  },
  {
   "cell_type": "code",
   "execution_count": 0,
   "metadata": {
    "application/vnd.databricks.v1+cell": {
     "cellMetadata": {
      "byteLimit": 2048000,
      "rowLimit": 10000
     },
     "inputWidgets": {},
     "nuid": "00c9e6be-2ff0-47d5-b1c8-4c8c38b7db59",
     "showTitle": false,
     "tableResultSettingsMap": {},
     "title": ""
    }
   },
   "outputs": [
    {
     "output_type": "stream",
     "name": "stdout",
     "output_type": "stream",
     "text": [
      "+-----------------------+\n|(avg(data.price) / 100)|\n+-----------------------+\n|      7.732849832109317|\n+-----------------------+\n\n"
     ]
    }
   ],
   "source": [
    "# prix moyen des jeux\n",
    "df.select(F.avg('data.price')/100)\\\n",
    "  .show()"
   ]
  },
  {
   "cell_type": "markdown",
   "metadata": {
    "application/vnd.databricks.v1+cell": {
     "cellMetadata": {
      "byteLimit": 2048000,
      "rowLimit": 10000
     },
     "inputWidgets": {},
     "nuid": "ce716719-db42-4b54-825f-9982708b6211",
     "showTitle": false,
     "tableResultSettingsMap": {},
     "title": ""
    }
   },
   "source": [
    "Le prix moyen sur steam est de 7.73 dollars. Affinons la question afin de visualiser la répartition par prix.\n",
    "A noter que précédement .avg arrive a convertir des string directement alors qu'avec des \"opérations\" il faut convertir en float. floor permet d'arrondir à l'entier inférieur"
   ]
  },
  {
   "cell_type": "code",
   "execution_count": 0,
   "metadata": {
    "application/vnd.databricks.v1+cell": {
     "cellMetadata": {
      "byteLimit": 2048000,
      "rowLimit": 10000
     },
     "inputWidgets": {},
     "nuid": "10f621d9-da47-4b84-9bfc-a9a7406aa97d",
     "showTitle": false,
     "tableResultSettingsMap": {},
     "title": ""
    }
   },
   "outputs": [
    {
     "output_type": "stream",
     "name": "stdout",
     "output_type": "stream",
     "text": [
      "+-------------------+-----+\n|price_range_dollars|count|\n+-------------------+-----+\n|                  0|13815|\n|                  1| 4495|\n|                  2| 3904|\n|                  3| 2682|\n|                  4| 6362|\n|                  5| 1931|\n|                  6| 1924|\n|                  7| 1642|\n|                  8|  782|\n|                  9| 6171|\n|                 10|  464|\n|                 11|  841|\n|                 12|  829|\n|                 13|  292|\n|                 14| 2885|\n|                 15|  247|\n|                 16|  192|\n|                 17|  295|\n|                 18|  144|\n|                 19| 2833|\n|                 20|   12|\n|                 21|   11|\n|                 22|   11|\n|                 23|   11|\n|                 24|  865|\n|                 25|    5|\n|                 26|    6|\n|                 27|    2|\n|                 28|    2|\n|                 29|  869|\n+-------------------+-----+\nonly showing top 30 rows\n\n"
     ]
    }
   ],
   "source": [
    "df.select(F.floor(F.col('data.price').cast('float')/100).alias('price_range_dollars'))\\\n",
    "  .groupBy('price_range_dollars')\\\n",
    "  .count()\\\n",
    "  .orderBy('price_range_dollars')\\\n",
    "  .show(30)"
   ]
  },
  {
   "cell_type": "markdown",
   "metadata": {
    "application/vnd.databricks.v1+cell": {
     "cellMetadata": {
      "byteLimit": 2048000,
      "rowLimit": 10000
     },
     "inputWidgets": {},
     "nuid": "a9982950-8710-4f85-a821-256b6a263452",
     "showTitle": false,
     "tableResultSettingsMap": {},
     "title": ""
    }
   },
   "source": [
    "Il y a beaucoup trop de prix différents pour que cela soit lisible...Regroupons cela par catégorie de prix pour finir :"
   ]
  },
  {
   "cell_type": "code",
   "execution_count": 0,
   "metadata": {
    "application/vnd.databricks.v1+cell": {
     "cellMetadata": {
      "byteLimit": 2048000,
      "rowLimit": 10000
     },
     "inputWidgets": {},
     "nuid": "b8fa47a6-d146-4f9a-8da1-6478415120e0",
     "showTitle": false,
     "tableResultSettingsMap": {},
     "title": ""
    }
   },
   "outputs": [
    {
     "output_type": "stream",
     "name": "stdout",
     "output_type": "stream",
     "text": [
      "+--------------+-----+\n|price_category|count|\n+--------------+-----+\n|Moins de 5$   |23478|\n|5$ - 9.99$    |12450|\n|Free to play  |7780 |\n|10$ - 14.99$  |5311 |\n|15$ - 19.99$  |3711 |\n|20$ - 29.99$  |1794 |\n|30$ - 49.99$  |839  |\n|50$ et plus   |328  |\n+--------------+-----+\n\n"
     ]
    }
   ],
   "source": [
    "# cLassification des différents prix\n",
    "df.select('data.price')\\\n",
    "  .withColumn('price_in_dollars', F.col('price').cast('float')/100)\\\n",
    "  .withColumn('price_category', \n",
    "    F.when(F.col('price_in_dollars') == 0, 'Free to play')\n",
    "    .when(F.col('price_in_dollars') < 5, 'Moins de 5$')\n",
    "    .when(F.col('price_in_dollars') < 10, '5$ - 9.99$')\n",
    "    .when(F.col('price_in_dollars') < 15, '10$ - 14.99$')\n",
    "    .when(F.col('price_in_dollars') < 20, '15$ - 19.99$')\n",
    "    .when(F.col('price_in_dollars') < 30, '20$ - 29.99$')\n",
    "    .when(F.col('price_in_dollars') < 50, '30$ - 49.99$')\n",
    "    .otherwise('50$ et plus'))\\\n",
    "  .groupBy('price_category')\\\n",
    "  .count()\\\n",
    "  .orderBy('count', ascending=False)\\\n",
    "  .show(truncate=False)\n"
   ]
  },
  {
   "cell_type": "markdown",
   "metadata": {
    "application/vnd.databricks.v1+cell": {
     "cellMetadata": {
      "byteLimit": 2048000,
      "rowLimit": 10000
     },
     "inputWidgets": {},
     "nuid": "23d3c9e1-bb1c-4e12-9a7e-28146ba504db",
     "showTitle": false,
     "tableResultSettingsMap": {},
     "title": ""
    }
   },
   "source": [
    "## Are there many games with a discount?"
   ]
  },
  {
   "cell_type": "code",
   "execution_count": 0,
   "metadata": {
    "application/vnd.databricks.v1+cell": {
     "cellMetadata": {
      "byteLimit": 2048000,
      "rowLimit": 10000
     },
     "inputWidgets": {},
     "nuid": "c9ff8ddf-d74c-49b4-8fb0-53d367def946",
     "showTitle": false,
     "tableResultSettingsMap": {},
     "title": ""
    }
   },
   "outputs": [
    {
     "output_type": "stream",
     "name": "stdout",
     "output_type": "stream",
     "text": [
      "+--------------+-----+\n|  has_discount|count|\n+--------------+-----+\n|Avec réduction| 2518|\n|Sans réduction|53173|\n+--------------+-----+\n\n"
     ]
    }
   ],
   "source": [
    "# Jeux  en promotions vs pas de promotion :\n",
    "df.select('data.discount')\\\n",
    "  .withColumn('has_discount', \n",
    "    F.when(F.col('discount') != '0', 'Avec réduction')\n",
    "    .otherwise('Sans réduction'))\\\n",
    "  .groupBy('has_discount')\\\n",
    "  .count()\\\n",
    "  .show()"
   ]
  },
  {
   "cell_type": "markdown",
   "metadata": {
    "application/vnd.databricks.v1+cell": {
     "cellMetadata": {
      "byteLimit": 2048000,
      "rowLimit": 10000
     },
     "inputWidgets": {},
     "nuid": "a39e7a2d-00a3-4f5a-8ec3-06c7b36fe230",
     "showTitle": false,
     "tableResultSettingsMap": {},
     "title": ""
    }
   },
   "source": [
    "Il y a une majorité de jeux sans réduction sur Steam, mais voyons la même chose en %"
   ]
  },
  {
   "cell_type": "code",
   "execution_count": 0,
   "metadata": {
    "application/vnd.databricks.v1+cell": {
     "cellMetadata": {
      "byteLimit": 2048000,
      "rowLimit": 10000
     },
     "inputWidgets": {},
     "nuid": "42af444f-766c-4ce7-ac4c-6688df2a030c",
     "showTitle": false,
     "tableResultSettingsMap": {},
     "title": ""
    }
   },
   "outputs": [
    {
     "output_type": "stream",
     "name": "stdout",
     "output_type": "stream",
     "text": [
      "+--------------+-----+----------+\n|  has_discount|count|percentage|\n+--------------+-----+----------+\n|Avec réduction| 2518|      4.52|\n|Sans réduction|53173|     95.48|\n+--------------+-----+----------+\n\n"
     ]
    }
   ],
   "source": [
    "# D'abord, calculons le total des jeux\n",
    "total_games = df.count()\n",
    "\n",
    "# Maintenant faisons la même requête avec un pourcentage\n",
    "df.select('data.discount')\\\n",
    "  .withColumn('has_discount',\n",
    "    F.when(F.col('discount') != '0', 'Avec réduction')\n",
    "    .otherwise('Sans réduction'))\\\n",
    "  .groupBy('has_discount')\\\n",
    "  .count()\\\n",
    "  .withColumn('percentage', \n",
    "    F.round(F.col('count') * 100 / total_games, 2))\\\n",
    "  .show()"
   ]
  },
  {
   "cell_type": "markdown",
   "metadata": {
    "application/vnd.databricks.v1+cell": {
     "cellMetadata": {
      "byteLimit": 2048000,
      "rowLimit": 10000
     },
     "inputWidgets": {},
     "nuid": "85bd06dd-ad9f-4f18-ad69-09ace18bc9f4",
     "showTitle": true,
     "tableResultSettingsMap": {},
     "title": ""
    }
   },
   "source": [
    "4,45 % des jeux ont été en promotion sur steam. Affinons avec le pourcentage moyen de réduction"
   ]
  },
  {
   "cell_type": "code",
   "execution_count": 0,
   "metadata": {
    "application/vnd.databricks.v1+cell": {
     "cellMetadata": {
      "byteLimit": 2048000,
      "rowLimit": 10000
     },
     "inputWidgets": {},
     "nuid": "54425d05-b9ee-48fe-9282-c6c734d26d6b",
     "showTitle": false,
     "tableResultSettingsMap": {},
     "title": ""
    }
   },
   "outputs": [
    {
     "output_type": "stream",
     "name": "stdout",
     "output_type": "stream",
     "text": [
      "+----------------------------+\n|avg(CAST(discount AS FLOAT))|\n+----------------------------+\n|           57.58816521048451|\n+----------------------------+\n\n"
     ]
    }
   ],
   "source": [
    "# pourcentage moyen de réduction\n",
    "df.select('data.discount')\\\n",
    "  .where(F.col('discount') != '0')\\\n",
    "  .select(F.avg(F.col('discount').cast('float')))\\\n",
    "  .show()"
   ]
  },
  {
   "cell_type": "markdown",
   "metadata": {
    "application/vnd.databricks.v1+cell": {
     "cellMetadata": {
      "byteLimit": 2048000,
      "rowLimit": 10000
     },
     "inputWidgets": {},
     "nuid": "f08ce81a-b5e3-44c4-a8bf-9f9bd67ac4e7",
     "showTitle": false,
     "tableResultSettingsMap": {},
     "title": ""
    }
   },
   "source": [
    "La moyenne est subsentiel : 57.59 % ! Finissons par classer cela dans des catégories pour mieux visualiser les politiques de promotions"
   ]
  },
  {
   "cell_type": "code",
   "execution_count": 0,
   "metadata": {
    "application/vnd.databricks.v1+cell": {
     "cellMetadata": {
      "byteLimit": 2048000,
      "rowLimit": 10000
     },
     "inputWidgets": {},
     "nuid": "8e3e4363-d459-4a16-b0bd-0173ab1575ab",
     "showTitle": false,
     "tableResultSettingsMap": {},
     "title": ""
    }
   },
   "outputs": [
    {
     "output_type": "stream",
     "name": "stdout",
     "output_type": "stream",
     "text": [
      "+-------------------------------+-----+\n|discount_category              |count|\n+-------------------------------+-----+\n|Pas de réduction               |53173|\n|Grande réduction (51-75%)      |815  |\n|Réduction moyenne (26-50%)     |771  |\n|Très grande réduction (76-100%)|623  |\n|Petite réduction (1-25%)       |309  |\n+-------------------------------+-----+\n\n"
     ]
    }
   ],
   "source": [
    "#classification des promotions\n",
    "df.select('data.discount')\\\n",
    "  .withColumn('discount_num', F.col('discount').cast('float'))\\\n",
    "  .withColumn('discount_category',\n",
    "    F.when(F.col('discount_num') == 0, 'Pas de réduction')\n",
    "    .when(F.col('discount_num') <= 25, 'Petite réduction (1-25%)')\n",
    "    .when(F.col('discount_num') <= 50, 'Réduction moyenne (26-50%)')\n",
    "    .when(F.col('discount_num') <= 75, 'Grande réduction (51-75%)')\n",
    "    .otherwise('Très grande réduction (76-100%)'))\\\n",
    "  .groupBy('discount_category')\\\n",
    "  .count()\\\n",
    "  .orderBy('count', ascending=False)\\\n",
    "  .show(truncate=False)"
   ]
  },
  {
   "cell_type": "markdown",
   "metadata": {
    "application/vnd.databricks.v1+cell": {
     "cellMetadata": {
      "byteLimit": 2048000,
      "rowLimit": 10000
     },
     "inputWidgets": {},
     "nuid": "fb31deb3-bd76-4048-9eeb-bb19d2f6aabc",
     "showTitle": false,
     "tableResultSettingsMap": {},
     "title": ""
    }
   },
   "source": [
    "\n",
    "## What are the most represented languages?"
   ]
  },
  {
   "cell_type": "code",
   "execution_count": 0,
   "metadata": {
    "application/vnd.databricks.v1+cell": {
     "cellMetadata": {
      "byteLimit": 2048000,
      "rowLimit": 10000
     },
     "inputWidgets": {},
     "nuid": "28647b1b-6d3d-4e74-b456-3e7b4b232c6c",
     "showTitle": false,
     "tableResultSettingsMap": {},
     "title": ""
    }
   },
   "outputs": [
    {
     "output_type": "stream",
     "name": "stdout",
     "output_type": "stream",
     "text": [
      "+-------------------------------------------------------------------------------------------------------------------------+\n|languages                                                                                                                |\n+-------------------------------------------------------------------------------------------------------------------------+\n|English, French, German, Italian, Spanish - Spain, Simplified Chinese, Traditional Chinese, Korean                       |\n|English, Korean, Simplified Chinese                                                                                      |\n|Simplified Chinese, English, Japanese, Traditional Chinese, French, German, Spanish - Spain, Russian, Portuguese - Brazil|\n|English                                                                                                                  |\n|Simplified Chinese                                                                                                       |\n+-------------------------------------------------------------------------------------------------------------------------+\n\n"
     ]
    }
   ],
   "source": [
    "# contenu de la colonne \"data.languages\"\n",
    "df.select('data.languages')\\\n",
    "  .limit(5)\\\n",
    "  .show(truncate=False)"
   ]
  },
  {
   "cell_type": "markdown",
   "metadata": {
    "application/vnd.databricks.v1+cell": {
     "cellMetadata": {
      "byteLimit": 2048000,
      "rowLimit": 10000
     },
     "inputWidgets": {},
     "nuid": "4af001cc-9d97-4692-93d2-79975b2671f9",
     "showTitle": false,
     "tableResultSettingsMap": {},
     "title": ""
    }
   },
   "source": [
    "Le problème ici est que chaque jeux peut être en plusieurs langues.La prochaine requête devra : prendre la colonne \"languages\", la diviser aux virgules, créer une ligne par langue (explode), nettoyer les espaces (trim), grouper, compter et enfin ordonner par fréquence"
   ]
  },
  {
   "cell_type": "code",
   "execution_count": 0,
   "metadata": {
    "application/vnd.databricks.v1+cell": {
     "cellMetadata": {
      "byteLimit": 2048000,
      "rowLimit": 10000
     },
     "inputWidgets": {},
     "nuid": "d1143940-847f-45ce-93b6-bd1b1c066344",
     "showTitle": false,
     "tableResultSettingsMap": {},
     "title": ""
    }
   },
   "outputs": [
    {
     "output_type": "stream",
     "name": "stdout",
     "output_type": "stream",
     "text": [
      "+--------------------+-----+\n|            language|count|\n+--------------------+-----+\n|             English|55116|\n|              German|14019|\n|              French|13426|\n|             Russian|12922|\n|  Simplified Chinese|12782|\n|     Spanish - Spain|12233|\n|            Japanese|10368|\n|             Italian| 9304|\n| Portuguese - Brazil| 6750|\n|              Korean| 6600|\n| Traditional Chinese| 6307|\n|              Polish| 5376|\n|Portuguese - Port...| 4011|\n|             Turkish| 3602|\n|               Dutch| 3080|\n|Spanish - Latin A...| 2732|\n|               Czech| 2352|\n|             Swedish| 2047|\n|           Ukrainian| 1928|\n|           Hungarian| 1923|\n+--------------------+-----+\nonly showing top 20 rows\n\n"
     ]
    }
   ],
   "source": [
    "# classement des langues les plus utilisés\n",
    "df.select('data.languages')\\\n",
    "  .select(F.explode(F.split('languages', ',')))\\\n",
    "  .select(F.trim(F.col('col')).alias('language'))\\\n",
    "  .groupBy('language')\\\n",
    "  .count()\\\n",
    "  .orderBy('count', ascending=False)\\\n",
    "  .show()"
   ]
  },
  {
   "cell_type": "markdown",
   "metadata": {
    "application/vnd.databricks.v1+cell": {
     "cellMetadata": {
      "byteLimit": 2048000,
      "rowLimit": 10000
     },
     "inputWidgets": {},
     "nuid": "7f41b5b4-3aa3-4774-904d-595e746c60fb",
     "showTitle": false,
     "tableResultSettingsMap": {},
     "title": ""
    }
   },
   "source": [
    "## Are there many games prohibited for children under 16/18?"
   ]
  },
  {
   "cell_type": "markdown",
   "metadata": {
    "application/vnd.databricks.v1+cell": {
     "cellMetadata": {
      "byteLimit": 2048000,
      "rowLimit": 10000
     },
     "inputWidgets": {},
     "nuid": "dc062de8-aad1-40bd-b226-478147658a31",
     "showTitle": true,
     "tableResultSettingsMap": {},
     "title": ""
    }
   },
   "source": [
    "Encore une formulation un peu ambigue. Nous allons calculons le nombre de jeux interdits aux moins de 16 ans et au moins de 18 ans"
   ]
  },
  {
   "cell_type": "code",
   "execution_count": 0,
   "metadata": {
    "application/vnd.databricks.v1+cell": {
     "cellMetadata": {
      "byteLimit": 2048000,
      "rowLimit": 10000
     },
     "inputWidgets": {},
     "nuid": "ac60e1d5-c18f-4f0d-91fa-540d37bda3f6",
     "showTitle": false,
     "tableResultSettingsMap": {},
     "title": ""
    }
   },
   "outputs": [
    {
     "output_type": "stream",
     "name": "stdout",
     "output_type": "stream",
     "text": [
      "+------------+-----+\n|required_age|count|\n+------------+-----+\n|           0|55030|\n|          10|    7|\n|          12|   32|\n|          13|   26|\n|          14|   10|\n|          15|  264|\n|          16|   38|\n|          17|   38|\n|          18|  223|\n|         180|    4|\n|          20|    1|\n|         21+|    1|\n|           3|    3|\n|          35|    1|\n|           5|    1|\n|           6|    4|\n|           7|    2|\n|          7+|    1|\n|           8|    3|\n|           9|    1|\n+------------+-----+\nonly showing top 20 rows\n\n"
     ]
    }
   ],
   "source": [
    "# contenu de la colonne \"data.required_age\"\n",
    "df.select('data.required_age')\\\n",
    "  .groupBy('required_age')\\\n",
    "  .count()\\\n",
    "  .orderBy('required_age')\\\n",
    "  .show()"
   ]
  },
  {
   "cell_type": "markdown",
   "metadata": {
    "application/vnd.databricks.v1+cell": {
     "cellMetadata": {
      "byteLimit": 2048000,
      "rowLimit": 10000
     },
     "inputWidgets": {},
     "nuid": "e7fb7080-6aaf-45e4-8c78-53621ee26df4",
     "showTitle": false,
     "tableResultSettingsMap": {},
     "title": ""
    }
   },
   "source": [
    "On constate quelques erreurs ou manières de notation peu classique : \n",
    "- 180 est surement pour 18.\n",
    "- Considérons également les chiffres 21+ et 35 comme plus de 18 ans"
   ]
  },
  {
   "cell_type": "code",
   "execution_count": 0,
   "metadata": {
    "application/vnd.databricks.v1+cell": {
     "cellMetadata": {
      "byteLimit": 2048000,
      "rowLimit": 10000
     },
     "inputWidgets": {},
     "nuid": "dc1b671a-d501-4fe7-9640-ab156c6d2656",
     "showTitle": false,
     "tableResultSettingsMap": {},
     "title": ""
    }
   },
   "outputs": [
    {
     "output_type": "stream",
     "name": "stdout",
     "output_type": "stream",
     "text": [
      "+----------+-----------------+\n|jeux_min16|pourcentage_min16|\n+----------+-----------------+\n|       306|0.549460415506994|\n+----------+-----------------+\n\n"
     ]
    }
   ],
   "source": [
    "# nombre de jeux interdits aux moins de 16 ans avec pourcentage\n",
    "df.select('data.required_age')\\\n",
    "  .where(F.col('required_age').isin(['16', '17', '18', '180',20, '21+', '35']))\\\n",
    "  .agg(\n",
    "    F.count('*').alias('jeux_min16'),\n",
    "    (F.count('*') * 100 / df.count()).alias('pourcentage_min16')\n",
    "  )\\\n",
    "  .show()"
   ]
  },
  {
   "cell_type": "code",
   "execution_count": 0,
   "metadata": {
    "application/vnd.databricks.v1+cell": {
     "cellMetadata": {
      "byteLimit": 2048000,
      "rowLimit": 10000
     },
     "inputWidgets": {},
     "nuid": "3fd6c534-6e5b-4f7f-b045-4bf34fdb458b",
     "showTitle": false,
     "tableResultSettingsMap": {},
     "title": ""
    }
   },
   "outputs": [
    {
     "output_type": "stream",
     "name": "stdout",
     "output_type": "stream",
     "text": [
      "+----------+------------------+\n|jeux_min18| pourcentage_min18|\n+----------+------------------+\n|       230|0.4129931227666948|\n+----------+------------------+\n\n"
     ]
    }
   ],
   "source": [
    "#nombre de jeux interdits aux moins de 18 ans avec pourcentage\n",
    "df.select('data.required_age')\\\n",
    "  .where(F.col('required_age').isin(['18', '180', 20, '21+', '35']))\\\n",
    "  .agg(\n",
    "    F.count('*').alias('jeux_min18'),\n",
    "    (F.count('*') * 100 / df.count()).alias('pourcentage_min18')\n",
    "  )\\\n",
    "  .show()"
   ]
  },
  {
   "cell_type": "markdown",
   "metadata": {
    "application/vnd.databricks.v1+cell": {
     "cellMetadata": {},
     "inputWidgets": {},
     "nuid": "0cbac660-ce50-4d18-85dc-ae50749aadb8",
     "showTitle": false,
     "tableResultSettingsMap": {},
     "title": ""
    }
   },
   "source": [
    "Il y a peu de jeux avec une limite d'âge haute"
   ]
  },
  {
   "cell_type": "markdown",
   "metadata": {
    "application/vnd.databricks.v1+cell": {
     "cellMetadata": {
      "byteLimit": 2048000,
      "rowLimit": 10000
     },
     "inputWidgets": {},
     "nuid": "74247a01-6bef-4a87-803f-8b9b6b8436a3",
     "showTitle": false,
     "tableResultSettingsMap": {},
     "title": ""
    }
   },
   "source": [
    "## Are most games available on Windows/Mac/Linux?"
   ]
  },
  {
   "cell_type": "markdown",
   "metadata": {
    "application/vnd.databricks.v1+cell": {
     "cellMetadata": {
      "byteLimit": 2048000,
      "rowLimit": 10000
     },
     "inputWidgets": {},
     "nuid": "37fca7e4-8127-4a89-b980-2682498c91d9",
     "showTitle": false,
     "tableResultSettingsMap": {},
     "title": ""
    }
   },
   "source": [
    "Attention dans ces colonnes, il s'agit de booleans. Nous utiliserons .cast('int') afin de convertir True en 1 et False en 0"
   ]
  },
  {
   "cell_type": "code",
   "execution_count": 0,
   "metadata": {
    "application/vnd.databricks.v1+cell": {
     "cellMetadata": {
      "byteLimit": 2048000,
      "rowLimit": 10000
     },
     "inputWidgets": {},
     "nuid": "821d7440-8470-4527-ac43-83296c8d7252",
     "showTitle": false,
     "tableResultSettingsMap": {},
     "title": ""
    }
   },
   "outputs": [
    {
     "output_type": "stream",
     "name": "stdout",
     "output_type": "stream",
     "text": [
      "+-----------------+------------------+------------------+\n|        windows_%|             mac_%|           linux_%|\n+-----------------+------------------+------------------+\n|99.97306566590652|22.930096424916055|15.187373184176977|\n+-----------------+------------------+------------------+\n\n"
     ]
    }
   ],
   "source": [
    "# nombre de jeux sous window/mac/linux en porucentage\n",
    "df.select(\n",
    "    (F.avg(F.col('data.platforms.windows').cast('int')) * 100).alias('windows_%'),\n",
    "    (F.avg(F.col('data.platforms.mac').cast('int')) * 100).alias('mac_%'),\n",
    "    (F.avg(F.col('data.platforms.linux').cast('int')) * 100).alias('linux_%')\n",
    ")\\\n",
    ".show()"
   ]
  },
  {
   "cell_type": "markdown",
   "metadata": {
    "application/vnd.databricks.v1+cell": {
     "cellMetadata": {
      "byteLimit": 2048000,
      "rowLimit": 10000
     },
     "inputWidgets": {},
     "nuid": "349b9a68-ba59-4331-9205-23780174ec87",
     "showTitle": false,
     "tableResultSettingsMap": {},
     "title": ""
    }
   },
   "source": [
    "## What are the most represented genres?"
   ]
  },
  {
   "cell_type": "markdown",
   "metadata": {
    "application/vnd.databricks.v1+cell": {
     "cellMetadata": {
      "byteLimit": 2048000,
      "rowLimit": 10000
     },
     "inputWidgets": {},
     "nuid": "3bd909d9-5375-44d7-916c-09f62c44b2c5",
     "showTitle": false,
     "tableResultSettingsMap": {},
     "title": ""
    }
   },
   "source": [
    "Comme précédement avec la langue, on constate que certains jeux ont plusieurs style. On adapte donc la requête comme avec la lanque précédement"
   ]
  },
  {
   "cell_type": "code",
   "execution_count": 0,
   "metadata": {
    "application/vnd.databricks.v1+cell": {
     "cellMetadata": {
      "byteLimit": 2048000,
      "rowLimit": 10000
     },
     "inputWidgets": {},
     "nuid": "ec1ca417-105c-4b47-9444-131898b67892",
     "showTitle": false,
     "tableResultSettingsMap": {},
     "title": ""
    }
   },
   "outputs": [
    {
     "output_type": "stream",
     "name": "stdout",
     "output_type": "stream",
     "text": [
      "+--------------------+-----+\n|               genre|count|\n+--------------------+-----+\n|               Indie|39681|\n|              Action|23759|\n|              Casual|22086|\n|           Adventure|21431|\n|            Strategy|10895|\n|          Simulation|10836|\n|                 RPG| 9534|\n|        Early Access| 6145|\n|        Free to Play| 3393|\n|              Sports| 2666|\n|              Racing| 2155|\n|Massively Multipl...| 1460|\n|           Utilities|  682|\n|Design & Illustra...|  406|\n|Animation & Modeling|  322|\n|           Education|  317|\n|    Video Production|  247|\n|    Audio Production|  195|\n|             Violent|  168|\n|   Software Training|  164|\n+--------------------+-----+\nonly showing top 20 rows\n\n"
     ]
    }
   ],
   "source": [
    "# Style de jeux le plus représenté :\n",
    "df.select('data.genre')\\\n",
    "  .select(F.explode(F.split('genre', ',')))\\\n",
    "  .select(F.trim(F.col('col')).alias('genre'))\\\n",
    "  .groupBy('genre')\\\n",
    "  .count()\\\n",
    "  .orderBy('count', ascending=False)\\\n",
    "  .show()"
   ]
  },
  {
   "cell_type": "markdown",
   "metadata": {
    "application/vnd.databricks.v1+cell": {
     "cellMetadata": {
      "byteLimit": 2048000,
      "rowLimit": 10000
     },
     "inputWidgets": {},
     "nuid": "a3bdbc2c-73e3-4f56-9ef3-c570e4b4e170",
     "showTitle": false,
     "tableResultSettingsMap": {},
     "title": ""
    }
   },
   "source": [
    "Nous avons identifié le style de jeu le plus présent sur Stream : le jeu indépendant. Les jeux d'actions et casual \"grand pulic\" sont également dand le top 3.\n",
    "Mais les jeux indépendants sont-ils ceux que les joueurs préfèrent ?"
   ]
  },
  {
   "cell_type": "code",
   "execution_count": 0,
   "metadata": {
    "application/vnd.databricks.v1+cell": {
     "cellMetadata": {
      "byteLimit": 2048000,
      "rowLimit": 10000
     },
     "inputWidgets": {},
     "nuid": "ed051b5e-b271-40fc-9cf5-001ef2297326",
     "showTitle": false,
     "tableResultSettingsMap": {},
     "title": ""
    }
   },
   "outputs": [
    {
     "output_type": "stream",
     "name": "stdout",
     "output_type": "stream",
     "text": [
      "+--------------------+-------------------+\n|               genre|total_avis_positifs|\n+--------------------+-------------------+\n|              Action|           54858618|\n|               Indie|           32531023|\n|           Adventure|           29689445|\n|                 RPG|           19425528|\n|        Free to Play|           18722246|\n|          Simulation|           15572390|\n|            Strategy|           13402870|\n|              Casual|           10034967|\n|Massively Multipl...|            7979078|\n|        Early Access|            4334595|\n|              Sports|            2949805|\n|              Racing|            2340353|\n|           Utilities|             739335|\n|Animation & Modeling|             690765|\n|Design & Illustra...|             674057|\n|       Photo Editing|             577751|\n|                    |             189649|\n|    Video Production|             111514|\n|    Audio Production|              69118|\n|             Violent|              41140|\n+--------------------+-------------------+\nonly showing top 20 rows\n\n"
     ]
    }
   ],
   "source": [
    "# Style de jeux préféré selon le nombre d'avis positif total\n",
    "df.select(\n",
    "    F.explode(F.split('data.genre', ',')).alias('genre'),\n",
    "    'data.positive'\n",
    ")\\\n",
    ".select(\n",
    "    F.trim(F.col('genre')).alias('genre'),\n",
    "    'positive'\n",
    ")\\\n",
    ".groupBy('genre')\\\n",
    ".agg(F.sum('positive').alias('total_avis_positifs'))\\\n",
    ".orderBy('total_avis_positifs', ascending=False)\\\n",
    ".show()"
   ]
  },
  {
   "cell_type": "markdown",
   "metadata": {
    "application/vnd.databricks.v1+cell": {
     "cellMetadata": {
      "byteLimit": 2048000,
      "rowLimit": 10000
     },
     "inputWidgets": {},
     "nuid": "d35be794-d7a8-4ba7-9fd2-c1e93e449628",
     "showTitle": false,
     "tableResultSettingsMap": {},
     "title": ""
    }
   },
   "source": [
    "Pas tout à fait !"
   ]
  },
  {
   "cell_type": "markdown",
   "metadata": {
    "application/vnd.databricks.v1+cell": {
     "cellMetadata": {},
     "inputWidgets": {},
     "nuid": "0967bd5e-5c0f-4580-b9d7-ec04eee64399",
     "showTitle": false,
     "tableResultSettingsMap": {},
     "title": ""
    }
   },
   "source": [
    "## Question supplémentaires en vu d'améliorer les préconisations à Ubisoft"
   ]
  },
  {
   "cell_type": "markdown",
   "metadata": {
    "application/vnd.databricks.v1+cell": {
     "cellMetadata": {
      "byteLimit": 2048000,
      "rowLimit": 10000
     },
     "inputWidgets": {},
     "nuid": "0cc83090-3e60-4a3a-b047-7e4c7a9c7aa6",
     "showTitle": false,
     "tableResultSettingsMap": {},
     "title": ""
    }
   },
   "source": [
    "Pour répondre un peu mieux à la demande, nous rajoutons quelques questions."
   ]
  },
  {
   "cell_type": "markdown",
   "metadata": {
    "application/vnd.databricks.v1+cell": {
     "cellMetadata": {
      "byteLimit": 2048000,
      "rowLimit": 10000
     },
     "inputWidgets": {},
     "nuid": "b16478cd-e79c-4c6a-b5b0-f3e96073d0ff",
     "showTitle": false,
     "tableResultSettingsMap": {},
     "title": ""
    }
   },
   "source": [
    "Par exemple quel est le chiffre d'affaire total par rapport au genre (par exemple prix jeux d'aventure * le nombre de propriétaire). \n",
    "- depuis la création de STEAM\n",
    "- depuis les 3 dernières années pour voir la tendance actuelle"
   ]
  },
  {
   "cell_type": "code",
   "execution_count": 0,
   "metadata": {
    "application/vnd.databricks.v1+cell": {
     "cellMetadata": {
      "byteLimit": 2048000,
      "rowLimit": 10000
     },
     "inputWidgets": {},
     "nuid": "db7cf944-21dc-4fbb-83fd-ecb6f64f44e7",
     "showTitle": false,
     "tableResultSettingsMap": {},
     "title": ""
    }
   },
   "outputs": [
    {
     "output_type": "stream",
     "name": "stdout",
     "output_type": "stream",
     "text": [
      "+-----+--------------------+--------------------+\n|price|              owners|               genre|\n+-----+--------------------+--------------------+\n|  999|10,000,000 .. 20,...|              Action|\n|  999|         0 .. 20,000|Action, Adventure...|\n|  599|  200,000 .. 500,000|Adventure, Indie,...|\n| 1999|  100,000 .. 200,000|Action, Indie, Si...|\n|  199|         0 .. 20,000|Action, Casual, I...|\n+-----+--------------------+--------------------+\nonly showing top 5 rows\n\n"
     ]
    }
   ],
   "source": [
    "# contenu des colonnes price et owners\n",
    "df.select('data.price', 'data.owners', 'data.genre').show(5)"
   ]
  },
  {
   "cell_type": "markdown",
   "metadata": {
    "application/vnd.databricks.v1+cell": {
     "cellMetadata": {},
     "inputWidgets": {},
     "nuid": "02394dd6-a012-4c00-8dcc-9fec6f935da9",
     "showTitle": false,
     "tableResultSettingsMap": {},
     "title": ""
    }
   },
   "source": [
    "Steam fourni une plage pour le nombre de propriétaire. La ligne 1 indique qu'il y a eu entre 10 000 000 et 20 000 000 acheteurs d'un jeux d'action coutant 9.99 dollars. Pour la suite nous prendrons la plage minimale d'acheteur. Plus prudent."
   ]
  },
  {
   "cell_type": "code",
   "execution_count": 0,
   "metadata": {
    "application/vnd.databricks.v1+cell": {
     "cellMetadata": {
      "byteLimit": 2048000,
      "rowLimit": 10000
     },
     "inputWidgets": {},
     "nuid": "74d60102-705c-4964-b49d-563894fa5679",
     "showTitle": false,
     "tableResultSettingsMap": {},
     "title": ""
    }
   },
   "outputs": [
    {
     "output_type": "stream",
     "name": "stdout",
     "output_type": "stream",
     "text": [
      "+--------------------+-------------------+-----------+--------------------------+\n|               genre|CA_total_milliards$|nombre_jeux|CA_moyen_par_jeu_millions$|\n+--------------------+-------------------+-----------+--------------------------+\n|                 RPG|             309.38|        815|                    379.61|\n|            Strategy|             275.12|        850|                    323.67|\n| Massively Multip...|              363.0|       1412|                    257.08|\n|          Simulation|              250.0|       1207|                    207.12|\n| Animation & Mode...|               8.21|         42|                    195.47|\n|              Racing|               66.1|        357|                    185.14|\n|           Adventure|            1727.25|      10166|                    169.91|\n|                 RPG|            1358.13|       8719|                    155.77|\n|              Action|            3591.63|      23616|                    152.08|\n|Massively Multipl...|               6.28|         48|                    130.76|\n|      Web Publishing|               0.75|          6|                    124.96|\n|       Photo Editing|               9.01|         89|                    101.29|\n|            Strategy|             961.12|      10045|                     95.68|\n|          Simulation|             892.22|       9629|                     92.66|\n|                    |              14.81|        161|                     92.01|\n|              Sports|             178.77|       2523|                     70.85|\n|               Indie|             349.48|       5410|                      64.6|\n|      Web Publishing|               4.95|         83|                     59.68|\n|        Early Access|              314.1|       6125|                     51.28|\n|              Racing|              91.88|       1798|                      51.1|\n+--------------------+-------------------+-----------+--------------------------+\nonly showing top 20 rows\n\n"
     ]
    }
   ],
   "source": [
    "# chiffre d'affaires moyen par jeu dans chaque genre \n",
    "df.select(\n",
    "    F.explode(F.split('data.genre', ',')).alias('genre'),\n",
    "    F.col('data.price').cast('float').alias('price'),\n",
    "    F.regexp_replace(F.split('data.owners', ' \\\\.\\\\. ')[0], ',', '').cast('float').alias('min_owners')\n",
    ")\\\n",
    ".groupBy('genre')\\\n",
    ".agg(\n",
    "    F.round(F.sum(F.col('price') * F.col('min_owners'))/1000000000, 2).alias('CA_total_milliards$'),\n",
    "    F.count('*').alias('nombre_jeux'),\n",
    "    F.round(F.sum(F.col('price') * F.col('min_owners')) / F.count('*')/1000000, 2).alias('CA_moyen_par_jeu_millions$')\n",
    ")\\\n",
    ".orderBy('CA_moyen_par_jeu_millions$', ascending=False)\\\n",
    ".show()"
   ]
  },
  {
   "cell_type": "markdown",
   "metadata": {
    "application/vnd.databricks.v1+cell": {
     "cellMetadata": {},
     "inputWidgets": {},
     "nuid": "6925697c-9fb7-4293-be49-86aeaf5ed002",
     "showTitle": false,
     "tableResultSettingsMap": {},
     "title": ""
    }
   },
   "source": [
    "Regardons au cours le comportement au cours des 2 dernières années. Exluons 2020 qui est l'année COVID et avec beaucoup de jeux sortis, peut-être un comportement atypique avec le confinement...un peu biaisé..."
   ]
  },
  {
   "cell_type": "code",
   "execution_count": 0,
   "metadata": {
    "application/vnd.databricks.v1+cell": {
     "cellMetadata": {
      "byteLimit": 2048000,
      "rowLimit": 10000
     },
     "inputWidgets": {},
     "nuid": "5511eef6-d6b4-4ab8-9850-6a5b1d656e68",
     "showTitle": false,
     "tableResultSettingsMap": {},
     "title": ""
    }
   },
   "outputs": [
    {
     "output_type": "stream",
     "name": "stdout",
     "output_type": "stream",
     "text": [
      "+--------------------+-------------------+-----------+--------------------------+\n|               genre|CA_total_milliards$|nombre_jeux|CA_moyen_par_jeu_millions$|\n+--------------------+-------------------+-----------+--------------------------+\n| Massively Multip...|             128.41|        339|                    378.78|\n|              Racing|               21.6|         93|                     232.3|\n|                 RPG|             475.93|       2796|                    170.22|\n|          Simulation|              55.77|        354|                    157.54|\n|           Adventure|             380.99|       3379|                    112.75|\n|              Action|             709.63|       6867|                    103.34|\n|        Early Access|               0.17|          2|                     84.95|\n|              Sports|               56.5|        692|                     81.65|\n|          Simulation|             190.92|       2966|                     64.37|\n|            Strategy|              11.58|        186|                     62.28|\n|                 RPG|              15.93|        272|                     58.55|\n|            Strategy|             168.14|       3086|                     54.48|\n|        Early Access|             125.51|       2347|                     53.48|\n|               Indie|             304.71|      10081|                     30.23|\n|           Adventure|             100.79|       3336|                     30.21|\n|               Indie|              46.99|       1609|                     29.21|\n|              Racing|              15.86|        581|                      27.3|\n|              Casual|              68.43|       3671|                     18.64|\n|Massively Multipl...|               0.17|         14|                     12.13|\n|        Free to Play|               3.25|        330|                      9.86|\n+--------------------+-------------------+-----------+--------------------------+\nonly showing top 20 rows\n\n"
     ]
    }
   ],
   "source": [
    "# chiffre d'affaires moyen par jeu dans chaque genre entre 2021 et 2022 (2 dernières années)\n",
    "df.select(\n",
    "    F.explode(F.split('data.genre', ',')).alias('genre'),\n",
    "    F.col('data.price').cast('float').alias('price'),\n",
    "    F.regexp_replace(F.split('data.owners', ' \\\\.\\\\. ')[0], ',', '').cast('float').alias('min_owners'),\n",
    "    'data.release_date'\n",
    ")\\\n",
    ".where(F.substring('release_date', 1, 4).isin(['2021', '2022']))\\\n",
    ".groupBy('genre')\\\n",
    ".agg(\n",
    "    F.round(F.sum(F.col('price') * F.col('min_owners'))/1000000000, 2).alias('CA_total_milliards$'),\n",
    "    F.count('*').alias('nombre_jeux'),\n",
    "    F.round(F.sum(F.col('price') * F.col('min_owners')) / F.count('*')/1000000, 2).alias('CA_moyen_par_jeu_millions$')\n",
    ")\\\n",
    ".orderBy('CA_moyen_par_jeu_millions$', ascending=False)\\\n",
    ".show()"
   ]
  },
  {
   "cell_type": "code",
   "execution_count": 0,
   "metadata": {
    "application/vnd.databricks.v1+cell": {
     "cellMetadata": {
      "byteLimit": 2048000,
      "rowLimit": 10000
     },
     "inputWidgets": {},
     "nuid": "62b834c5-c017-4cdf-b46e-c71b68be4ff3",
     "showTitle": false,
     "tableResultSettingsMap": {},
     "title": ""
    }
   },
   "outputs": [
    {
     "output_type": "stream",
     "name": "stdout",
     "output_type": "stream",
     "text": [
      "+-----+-----+\n|month|count|\n+-----+-----+\n|     |   99|\n|   01| 3877|\n|   02| 4219|\n|   03| 4708|\n|   04| 4470|\n|   05| 4731|\n|   06| 4212|\n|   07| 4767|\n|   08| 5077|\n|   09| 5177|\n|   10| 5549|\n|   11| 4557|\n|   12| 4248|\n+-----+-----+\n\n"
     ]
    }
   ],
   "source": [
    "# A quel moment sort les jeux ?\n",
    "df.select(\n",
    "    F.substring('data.release_date', 6, 2).alias('month'))\\\n",
    ".groupBy('month')\\\n",
    ".count()\\\n",
    ".orderBy('month')\\\n",
    ".show()"
   ]
  },
  {
   "cell_type": "markdown",
   "metadata": {
    "application/vnd.databricks.v1+cell": {
     "cellMetadata": {},
     "inputWidgets": {},
     "nuid": "400b7078-2a64-44bb-aa99-ebe3e9386a5f",
     "showTitle": false,
     "tableResultSettingsMap": {},
     "title": ""
    }
   },
   "source": [
    "Terminons par deux onformations commerciales : \n",
    "- à quelle moment faut-il mieux sortir un jeu ?\n",
    "- on a identifié un prix potentiel sur toute la bie de steam, mais n'y a-t-il pas une évolution des prix ces dernières années ?"
   ]
  },
  {
   "cell_type": "code",
   "execution_count": 0,
   "metadata": {
    "application/vnd.databricks.v1+cell": {
     "cellMetadata": {
      "byteLimit": 2048000,
      "rowLimit": 10000
     },
     "inputWidgets": {},
     "nuid": "c6d4b052-b074-45f5-a19c-80771bf1febb",
     "showTitle": false,
     "tableResultSettingsMap": {},
     "title": ""
    }
   },
   "outputs": [
    {
     "output_type": "stream",
     "name": "stdout",
     "output_type": "stream",
     "text": [
      "+-----+-----+\n|month|count|\n+-----+-----+\n|     |   99|\n|   01| 3877|\n|   02| 4219|\n|   03| 4708|\n|   04| 4470|\n|   05| 4731|\n|   06| 4212|\n|   07| 4767|\n|   08| 5077|\n|   09| 5177|\n|   10| 5549|\n|   11| 4557|\n|   12| 4248|\n+-----+-----+\n\n"
     ]
    }
   ],
   "source": [
    "# mois des sorties ( 6, 2 car forme \"2021/05/14\" dans la colonne )\n",
    "df.select(\n",
    "    F.substring('data.release_date', 6, 2).alias('month')\n",
    ")\\\n",
    ".groupBy('month')\\\n",
    ".count()\\\n",
    ".orderBy('month')\\\n",
    ".show()"
   ]
  },
  {
   "cell_type": "markdown",
   "metadata": {
    "application/vnd.databricks.v1+cell": {
     "cellMetadata": {
      "byteLimit": 2048000,
      "rowLimit": 10000
     },
     "inputWidgets": {},
     "nuid": "d15cb765-a429-40bb-a9f5-ee64af8947bc",
     "showTitle": false,
     "tableResultSettingsMap": {},
     "title": ""
    }
   },
   "source": [
    "Saisonnalité des sorties :\n",
    "\n",
    "- pic 1 est en septembre-octobre (5177 et 5549 jeux)\n",
    "- ic 2 en juillet-août (4767 et 5077 jeux)\n",
    "- Creux en janvier-février (3877 et 4219 jeux)\n",
    "\n",
    "Ce qui montre des moments stratégiques de sortie : rentrée scolaire et vacances d'été"
   ]
  },
  {
   "cell_type": "code",
   "execution_count": 0,
   "metadata": {
    "application/vnd.databricks.v1+cell": {
     "cellMetadata": {
      "byteLimit": 2048000,
      "rowLimit": 10000
     },
     "inputWidgets": {},
     "nuid": "c69642b9-a596-436e-9be2-b46bd6021a2b",
     "showTitle": false,
     "tableResultSettingsMap": {},
     "title": ""
    }
   },
   "outputs": [
    {
     "output_type": "stream",
     "name": "stdout",
     "output_type": "stream",
     "text": [
      "+----+------------------+\n|year|(avg(price) / 100)|\n+----+------------------+\n|    | 4.620707070707071|\n|1997|             14.98|\n|1998|              9.99|\n|1999|3.3266666666666667|\n|2000|              7.49|\n|2001|              9.99|\n|2002|             14.99|\n|2003| 8.906666666666666|\n|2004|              9.99|\n|2005| 7.991666666666666|\n|2006| 9.024426229508197|\n|2007| 6.721530612244898|\n|2008|  8.53006289308176|\n|2009| 9.216334405144694|\n|2010|         7.9984375|\n|2011| 9.067902621722846|\n|2012| 9.573304347826086|\n|2013|11.020806794055202|\n|2014| 9.012710340398202|\n|2015| 7.533373447204968|\n|2016| 7.214410991636798|\n|2017| 6.825487784610271|\n|2018| 6.308491794738213|\n|2019| 7.261186854190586|\n|2020| 7.226219145093317|\n|2021|  8.51796214439533|\n|2022| 9.709977196512408|\n+----+------------------+\n\n"
     ]
    }
   ],
   "source": [
    "# L'évolution des prix pour savoir à quel tarif vendre\n",
    "df.select(\n",
    "    F.substring('data.release_date', 1, 4).alias('year'),\n",
    "    F.col('data.price').cast('float').alias('price')\n",
    ")\\\n",
    ".groupBy('year')\\\n",
    ".agg(F.avg('price')/100).alias('prix_moyen')\\\n",
    ".orderBy('year')\\\n",
    ".show(30)"
   ]
  },
  {
   "cell_type": "markdown",
   "metadata": {
    "application/vnd.databricks.v1+cell": {
     "cellMetadata": {},
     "inputWidgets": {},
     "nuid": "f0b09090-8afe-4442-a4e4-3b1dc760c350",
     "showTitle": false,
     "tableResultSettingsMap": {},
     "title": ""
    }
   },
   "source": [
    "- Une relative stabilité des prix moyens entre 7$ et 11$ sur la période (juste une seule année au delà à 15$).\n",
    "- Une égère tendance à la hausse jusqu'en 2013 (pic à 11.02$) puis baisse progressive (7.53$ en 2015)\n",
    "- Attention à ne pas vendre trop cher, les prix n'augmentent pas forcément avec le temps !"
   ]
  },
  {
   "cell_type": "markdown",
   "metadata": {
    "application/vnd.databricks.v1+cell": {
     "cellMetadata": {
      "byteLimit": 2048000,
      "rowLimit": 10000
     },
     "inputWidgets": {},
     "nuid": "7dbd94ff-e12a-49f1-ac24-d78f71766a50",
     "showTitle": false,
     "tableResultSettingsMap": {},
     "title": ""
    }
   },
   "source": [
    "## CONCLUSION"
   ]
  },
  {
   "cell_type": "markdown",
   "metadata": {
    "application/vnd.databricks.v1+cell": {
     "cellMetadata": {},
     "inputWidgets": {},
     "nuid": "bb4c0ef3-fe91-41c2-bc9e-f4e12c43a360",
     "showTitle": false,
     "tableResultSettingsMap": {},
     "title": ""
    }
   },
   "source": [
    "\n",
    "## ANALYSE DU MARCHÉ DES JEUX VIDÉO SUR STEAM\n",
    "\n",
    "## 1. Tendances du Marché\n",
    "- **Croissance** : De 471 jeux (2013) à 8823 jeux (2021, pic historique)\n",
    "- **Saisonnalité** : \n",
    "  * Pics : Septembre-Octobre et Juillet-Août\n",
    "  * Creux : Janvier-Février\n",
    "- **Distribution par plateforme** :\n",
    "  * Windows : 99.97%\n",
    "  * Mac : 22.93%\n",
    "  * Linux : 15.19%\n",
    "\n",
    "## 2. Analyse Économique\n",
    "- **Structure des prix** :\n",
    "  * Prix moyen : 7.73$ (stable entre 7-11$)\n",
    "  * < 5$ : 42.16% des jeux\n",
    "  * 5-9.99$ : 22.35%\n",
    "  * Gratuits : 13.97%\n",
    "- **Politique de remises** :\n",
    "  * 4.52% des jeux en promotion\n",
    "  * Remise moyenne : 57.59%\n",
    "\n",
    "## 3. Analyse des Genres\n",
    "- **Plus représentés** :\n",
    "  * Indie\n",
    "  * Action\n",
    "  * Casual\n",
    "- **Avis positifs** :\n",
    "  * Action\n",
    "  * Indie\n",
    "  * Adventure\n",
    "- **Plus rentables** (CA moyen par jeu) :\n",
    "  * RPG (379.61M$)\n",
    "  * Strategy (323.67M$)\n",
    "  * Massively Multiplayer (257.08M$)\n",
    "\n",
    "## 4. Localisation et Accessibilité\n",
    "- **Distribution linguistique** :\n",
    "  * Anglais : 98.9%\n",
    "  * Allemand : 25.2%\n",
    "  * Français : 24.1%\n",
    "  * Russe : 23.2%\n",
    "  * Chinois simplifié : 22.9%\n",
    "- **Restrictions d'âge** :\n",
    "  * 16+ : 0.55%\n",
    "  * 18+ : 0.41%\n",
    "\n",
    "## RECOMMANDATIONS POUR UBISOFT\n",
    "\n",
    "## 1. Stratégie de Développement\n",
    "- Focus prioritaire sur Windows\n",
    "- Minimum 5 langues : EN, DE, FR, RU, CN\n",
    "- Contenu tout public (très peu de jeux 18+)\n",
    "\n",
    "## 2. Genre et Positionnement\n",
    "- Privilégier RPG ou Massively Multiplayer (rentabilité)\n",
    "- Alternative : Action (volume important)\n",
    "- Possibilité d'hybridation avec Adventure\n",
    "\n",
    "## 3. Stratégie Commerciale\n",
    "- **Timing** : Sortie en Septembre-Octobre (ou Juillet-Août)\n",
    "- **Prix** : \n",
    "  * Lancement : 7-11$\n",
    "  * Remises prévues : 50-60%\n",
    "\n",
    "Cette stratégie permettra de :\n",
    "- Maximiser le potentiel commercial\n",
    "- Optimiser le timing de sortie\n",
    "- Atteindre une audience large\n",
    "- Se positionner sur des segments rentables"
   ]
  }
 ],
 "metadata": {
  "application/vnd.databricks.v1+notebook": {
   "computePreferences": null,
   "dashboards": [],
   "environmentMetadata": {
    "base_environment": "",
    "client": "1"
   },
   "language": "python",
   "notebookMetadata": {
    "pythonIndentUnit": 4
   },
   "notebookName": "EDA-BigData_on_Steam",
   "widgets": {}
  }
 },
 "nbformat": 4,
 "nbformat_minor": 0
}
